{
 "cells": [
  {
   "cell_type": "code",
   "execution_count": 1,
   "id": "5a969c87",
   "metadata": {},
   "outputs": [],
   "source": [
    "import numpy as np\n",
    "import pandas as pd\n",
    "import matplotlib.pyplot as plt"
   ]
  },
  {
   "cell_type": "code",
   "execution_count": 2,
   "id": "7ec09cc4",
   "metadata": {},
   "outputs": [],
   "source": [
    "#!pip install pandas_datareader"
   ]
  },
  {
   "cell_type": "code",
   "execution_count": 3,
   "id": "97383bf8",
   "metadata": {},
   "outputs": [],
   "source": [
    "import pandas_datareader.data as web"
   ]
  },
  {
   "cell_type": "code",
   "execution_count": 4,
   "id": "5d5ab73c",
   "metadata": {},
   "outputs": [],
   "source": [
    "from keras.layers import Dense,Dropout,LSTM\n",
    "from keras.models import Sequential"
   ]
  },
  {
   "cell_type": "code",
   "execution_count": 5,
   "id": "44b8ccb0",
   "metadata": {},
   "outputs": [],
   "source": [
    "from datetime import datetime\n",
    "from datetime import date"
   ]
  },
  {
   "cell_type": "code",
   "execution_count": 6,
   "id": "686121e7",
   "metadata": {},
   "outputs": [],
   "source": [
    "start_date=datetime(2005, 1, 1)\n",
    "end_date=date.today().strftime(\"%Y-%m-%d\")"
   ]
  },
  {
   "cell_type": "code",
   "execution_count": 7,
   "id": "a5e67fef",
   "metadata": {},
   "outputs": [
    {
     "data": {
      "text/plain": [
       "'2022-04-29'"
      ]
     },
     "execution_count": 7,
     "metadata": {},
     "output_type": "execute_result"
    }
   ],
   "source": [
    "end_date"
   ]
  },
  {
   "cell_type": "code",
   "execution_count": 8,
   "id": "b234ba79",
   "metadata": {},
   "outputs": [],
   "source": [
    "stock='AAPL'\n",
    "df=web.DataReader(stock,data_source='yahoo',start=start_date)"
   ]
  },
  {
   "cell_type": "code",
   "execution_count": 9,
   "id": "79031914",
   "metadata": {},
   "outputs": [
    {
     "data": {
      "text/html": [
       "<div>\n",
       "<style scoped>\n",
       "    .dataframe tbody tr th:only-of-type {\n",
       "        vertical-align: middle;\n",
       "    }\n",
       "\n",
       "    .dataframe tbody tr th {\n",
       "        vertical-align: top;\n",
       "    }\n",
       "\n",
       "    .dataframe thead th {\n",
       "        text-align: right;\n",
       "    }\n",
       "</style>\n",
       "<table border=\"1\" class=\"dataframe\">\n",
       "  <thead>\n",
       "    <tr style=\"text-align: right;\">\n",
       "      <th></th>\n",
       "      <th>High</th>\n",
       "      <th>Low</th>\n",
       "      <th>Open</th>\n",
       "      <th>Close</th>\n",
       "      <th>Volume</th>\n",
       "      <th>Adj Close</th>\n",
       "    </tr>\n",
       "    <tr>\n",
       "      <th>Date</th>\n",
       "      <th></th>\n",
       "      <th></th>\n",
       "      <th></th>\n",
       "      <th></th>\n",
       "      <th></th>\n",
       "      <th></th>\n",
       "    </tr>\n",
       "  </thead>\n",
       "  <tbody>\n",
       "    <tr>\n",
       "      <th>2004-12-31</th>\n",
       "      <td>1.160714</td>\n",
       "      <td>1.143393</td>\n",
       "      <td>1.158750</td>\n",
       "      <td>1.150000</td>\n",
       "      <td>2.785888e+08</td>\n",
       "      <td>0.984715</td>\n",
       "    </tr>\n",
       "    <tr>\n",
       "      <th>2005-01-03</th>\n",
       "      <td>1.162679</td>\n",
       "      <td>1.117857</td>\n",
       "      <td>1.156786</td>\n",
       "      <td>1.130179</td>\n",
       "      <td>6.919920e+08</td>\n",
       "      <td>0.967743</td>\n",
       "    </tr>\n",
       "    <tr>\n",
       "      <th>2005-01-04</th>\n",
       "      <td>1.169107</td>\n",
       "      <td>1.124464</td>\n",
       "      <td>1.139107</td>\n",
       "      <td>1.141786</td>\n",
       "      <td>1.096810e+09</td>\n",
       "      <td>0.977682</td>\n",
       "    </tr>\n",
       "    <tr>\n",
       "      <th>2005-01-05</th>\n",
       "      <td>1.165179</td>\n",
       "      <td>1.143750</td>\n",
       "      <td>1.151071</td>\n",
       "      <td>1.151786</td>\n",
       "      <td>6.804336e+08</td>\n",
       "      <td>0.986245</td>\n",
       "    </tr>\n",
       "    <tr>\n",
       "      <th>2005-01-06</th>\n",
       "      <td>1.159107</td>\n",
       "      <td>1.130893</td>\n",
       "      <td>1.154821</td>\n",
       "      <td>1.152679</td>\n",
       "      <td>7.055552e+08</td>\n",
       "      <td>0.987009</td>\n",
       "    </tr>\n",
       "    <tr>\n",
       "      <th>...</th>\n",
       "      <td>...</td>\n",
       "      <td>...</td>\n",
       "      <td>...</td>\n",
       "      <td>...</td>\n",
       "      <td>...</td>\n",
       "      <td>...</td>\n",
       "    </tr>\n",
       "    <tr>\n",
       "      <th>2022-04-25</th>\n",
       "      <td>163.169998</td>\n",
       "      <td>158.460007</td>\n",
       "      <td>161.119995</td>\n",
       "      <td>162.880005</td>\n",
       "      <td>9.604640e+07</td>\n",
       "      <td>162.880005</td>\n",
       "    </tr>\n",
       "    <tr>\n",
       "      <th>2022-04-26</th>\n",
       "      <td>162.339996</td>\n",
       "      <td>156.720001</td>\n",
       "      <td>162.250000</td>\n",
       "      <td>156.800003</td>\n",
       "      <td>9.562320e+07</td>\n",
       "      <td>156.800003</td>\n",
       "    </tr>\n",
       "    <tr>\n",
       "      <th>2022-04-27</th>\n",
       "      <td>159.789993</td>\n",
       "      <td>155.380005</td>\n",
       "      <td>155.910004</td>\n",
       "      <td>156.570007</td>\n",
       "      <td>8.806320e+07</td>\n",
       "      <td>156.570007</td>\n",
       "    </tr>\n",
       "    <tr>\n",
       "      <th>2022-04-28</th>\n",
       "      <td>164.520004</td>\n",
       "      <td>158.929993</td>\n",
       "      <td>159.250000</td>\n",
       "      <td>163.639999</td>\n",
       "      <td>1.155864e+08</td>\n",
       "      <td>163.639999</td>\n",
       "    </tr>\n",
       "    <tr>\n",
       "      <th>2022-04-29</th>\n",
       "      <td>166.179901</td>\n",
       "      <td>160.800003</td>\n",
       "      <td>161.839996</td>\n",
       "      <td>165.800003</td>\n",
       "      <td>2.569934e+07</td>\n",
       "      <td>165.800003</td>\n",
       "    </tr>\n",
       "  </tbody>\n",
       "</table>\n",
       "<p>4363 rows × 6 columns</p>\n",
       "</div>"
      ],
      "text/plain": [
       "                  High         Low        Open       Close        Volume  \\\n",
       "Date                                                                       \n",
       "2004-12-31    1.160714    1.143393    1.158750    1.150000  2.785888e+08   \n",
       "2005-01-03    1.162679    1.117857    1.156786    1.130179  6.919920e+08   \n",
       "2005-01-04    1.169107    1.124464    1.139107    1.141786  1.096810e+09   \n",
       "2005-01-05    1.165179    1.143750    1.151071    1.151786  6.804336e+08   \n",
       "2005-01-06    1.159107    1.130893    1.154821    1.152679  7.055552e+08   \n",
       "...                ...         ...         ...         ...           ...   \n",
       "2022-04-25  163.169998  158.460007  161.119995  162.880005  9.604640e+07   \n",
       "2022-04-26  162.339996  156.720001  162.250000  156.800003  9.562320e+07   \n",
       "2022-04-27  159.789993  155.380005  155.910004  156.570007  8.806320e+07   \n",
       "2022-04-28  164.520004  158.929993  159.250000  163.639999  1.155864e+08   \n",
       "2022-04-29  166.179901  160.800003  161.839996  165.800003  2.569934e+07   \n",
       "\n",
       "             Adj Close  \n",
       "Date                    \n",
       "2004-12-31    0.984715  \n",
       "2005-01-03    0.967743  \n",
       "2005-01-04    0.977682  \n",
       "2005-01-05    0.986245  \n",
       "2005-01-06    0.987009  \n",
       "...                ...  \n",
       "2022-04-25  162.880005  \n",
       "2022-04-26  156.800003  \n",
       "2022-04-27  156.570007  \n",
       "2022-04-28  163.639999  \n",
       "2022-04-29  165.800003  \n",
       "\n",
       "[4363 rows x 6 columns]"
      ]
     },
     "execution_count": 9,
     "metadata": {},
     "output_type": "execute_result"
    }
   ],
   "source": [
    "df"
   ]
  },
  {
   "cell_type": "code",
   "execution_count": 10,
   "id": "ec61d9ad",
   "metadata": {},
   "outputs": [],
   "source": [
    "#!pip3 install pandas_datareader"
   ]
  },
  {
   "cell_type": "code",
   "execution_count": 11,
   "id": "12738313",
   "metadata": {},
   "outputs": [],
   "source": [
    "start = datetime(2005, 1, 1)\n",
    "end = datetime(2008, 1, 1)\n",
    "indicator_id = 'NY.GDP.PCAP.KD'"
   ]
  },
  {
   "cell_type": "code",
   "execution_count": 12,
   "id": "92735808",
   "metadata": {},
   "outputs": [],
   "source": [
    "from pandas_datareader import wb\n",
    "from datetime import datetime"
   ]
  },
  {
   "cell_type": "code",
   "execution_count": 13,
   "id": "01680c7b",
   "metadata": {},
   "outputs": [],
   "source": [
    "gdp_per_capita = wb.download(indicator=indicator_id, start=start, end=end, country=['US', 'CA', 'MX'])"
   ]
  },
  {
   "cell_type": "code",
   "execution_count": 14,
   "id": "b971af65",
   "metadata": {},
   "outputs": [
    {
     "data": {
      "text/html": [
       "<div>\n",
       "<style scoped>\n",
       "    .dataframe tbody tr th:only-of-type {\n",
       "        vertical-align: middle;\n",
       "    }\n",
       "\n",
       "    .dataframe tbody tr th {\n",
       "        vertical-align: top;\n",
       "    }\n",
       "\n",
       "    .dataframe thead th {\n",
       "        text-align: right;\n",
       "    }\n",
       "</style>\n",
       "<table border=\"1\" class=\"dataframe\">\n",
       "  <thead>\n",
       "    <tr style=\"text-align: right;\">\n",
       "      <th></th>\n",
       "      <th></th>\n",
       "      <th>NY.GDP.PCAP.KD</th>\n",
       "    </tr>\n",
       "    <tr>\n",
       "      <th>country</th>\n",
       "      <th>year</th>\n",
       "      <th></th>\n",
       "    </tr>\n",
       "  </thead>\n",
       "  <tbody>\n",
       "    <tr>\n",
       "      <th rowspan=\"4\" valign=\"top\">Canada</th>\n",
       "      <th>2008</th>\n",
       "      <td>42063.633052</td>\n",
       "    </tr>\n",
       "    <tr>\n",
       "      <th>2007</th>\n",
       "      <td>42097.435120</td>\n",
       "    </tr>\n",
       "    <tr>\n",
       "      <th>2006</th>\n",
       "      <td>39776.179473</td>\n",
       "    </tr>\n",
       "    <tr>\n",
       "      <th>2005</th>\n",
       "      <td>38573.199765</td>\n",
       "    </tr>\n",
       "    <tr>\n",
       "      <th rowspan=\"4\" valign=\"top\">Mexico</th>\n",
       "      <th>2008</th>\n",
       "      <td>9181.399967</td>\n",
       "    </tr>\n",
       "    <tr>\n",
       "      <th>2007</th>\n",
       "      <td>9214.353534</td>\n",
       "    </tr>\n",
       "    <tr>\n",
       "      <th>2006</th>\n",
       "      <td>9142.804774</td>\n",
       "    </tr>\n",
       "    <tr>\n",
       "      <th>2005</th>\n",
       "      <td>8877.851291</td>\n",
       "    </tr>\n",
       "    <tr>\n",
       "      <th rowspan=\"4\" valign=\"top\">United States</th>\n",
       "      <th>2008</th>\n",
       "      <td>53688.365135</td>\n",
       "    </tr>\n",
       "    <tr>\n",
       "      <th>2007</th>\n",
       "      <td>54272.719553</td>\n",
       "    </tr>\n",
       "    <tr>\n",
       "      <th>2006</th>\n",
       "      <td>53782.297288</td>\n",
       "    </tr>\n",
       "    <tr>\n",
       "      <th>2005</th>\n",
       "      <td>52796.089816</td>\n",
       "    </tr>\n",
       "  </tbody>\n",
       "</table>\n",
       "</div>"
      ],
      "text/plain": [
       "                    NY.GDP.PCAP.KD\n",
       "country       year                \n",
       "Canada        2008    42063.633052\n",
       "              2007    42097.435120\n",
       "              2006    39776.179473\n",
       "              2005    38573.199765\n",
       "Mexico        2008     9181.399967\n",
       "              2007     9214.353534\n",
       "              2006     9142.804774\n",
       "              2005     8877.851291\n",
       "United States 2008    53688.365135\n",
       "              2007    54272.719553\n",
       "              2006    53782.297288\n",
       "              2005    52796.089816"
      ]
     },
     "execution_count": 14,
     "metadata": {},
     "output_type": "execute_result"
    }
   ],
   "source": [
    "gdp_per_capita"
   ]
  },
  {
   "cell_type": "code",
   "execution_count": 15,
   "id": "370f3373",
   "metadata": {},
   "outputs": [],
   "source": [
    "from pandas_datareader.nasdaq_trader import get_nasdaq_symbols"
   ]
  },
  {
   "cell_type": "code",
   "execution_count": 16,
   "id": "a1124e70",
   "metadata": {},
   "outputs": [],
   "source": [
    "symbols = get_nasdaq_symbols()"
   ]
  },
  {
   "cell_type": "code",
   "execution_count": 17,
   "id": "eedb2c4d",
   "metadata": {},
   "outputs": [
    {
     "data": {
      "text/html": [
       "<div>\n",
       "<style scoped>\n",
       "    .dataframe tbody tr th:only-of-type {\n",
       "        vertical-align: middle;\n",
       "    }\n",
       "\n",
       "    .dataframe tbody tr th {\n",
       "        vertical-align: top;\n",
       "    }\n",
       "\n",
       "    .dataframe thead th {\n",
       "        text-align: right;\n",
       "    }\n",
       "</style>\n",
       "<table border=\"1\" class=\"dataframe\">\n",
       "  <thead>\n",
       "    <tr style=\"text-align: right;\">\n",
       "      <th></th>\n",
       "      <th>Nasdaq Traded</th>\n",
       "      <th>Security Name</th>\n",
       "      <th>Listing Exchange</th>\n",
       "      <th>Market Category</th>\n",
       "      <th>ETF</th>\n",
       "      <th>Round Lot Size</th>\n",
       "      <th>Test Issue</th>\n",
       "      <th>Financial Status</th>\n",
       "      <th>CQS Symbol</th>\n",
       "      <th>NASDAQ Symbol</th>\n",
       "      <th>NextShares</th>\n",
       "    </tr>\n",
       "    <tr>\n",
       "      <th>Symbol</th>\n",
       "      <th></th>\n",
       "      <th></th>\n",
       "      <th></th>\n",
       "      <th></th>\n",
       "      <th></th>\n",
       "      <th></th>\n",
       "      <th></th>\n",
       "      <th></th>\n",
       "      <th></th>\n",
       "      <th></th>\n",
       "      <th></th>\n",
       "    </tr>\n",
       "  </thead>\n",
       "  <tbody>\n",
       "    <tr>\n",
       "      <th>A</th>\n",
       "      <td>True</td>\n",
       "      <td>Agilent Technologies, Inc. Common Stock</td>\n",
       "      <td>N</td>\n",
       "      <td></td>\n",
       "      <td>False</td>\n",
       "      <td>100.0</td>\n",
       "      <td>False</td>\n",
       "      <td>NaN</td>\n",
       "      <td>A</td>\n",
       "      <td>A</td>\n",
       "      <td>False</td>\n",
       "    </tr>\n",
       "    <tr>\n",
       "      <th>AA</th>\n",
       "      <td>True</td>\n",
       "      <td>Alcoa Corporation Common Stock</td>\n",
       "      <td>N</td>\n",
       "      <td></td>\n",
       "      <td>False</td>\n",
       "      <td>100.0</td>\n",
       "      <td>False</td>\n",
       "      <td>NaN</td>\n",
       "      <td>AA</td>\n",
       "      <td>AA</td>\n",
       "      <td>False</td>\n",
       "    </tr>\n",
       "    <tr>\n",
       "      <th>AAA</th>\n",
       "      <td>True</td>\n",
       "      <td>Listed Funds Trust AAF First Priority CLO Bond...</td>\n",
       "      <td>P</td>\n",
       "      <td></td>\n",
       "      <td>True</td>\n",
       "      <td>100.0</td>\n",
       "      <td>False</td>\n",
       "      <td>NaN</td>\n",
       "      <td>AAA</td>\n",
       "      <td>AAA</td>\n",
       "      <td>False</td>\n",
       "    </tr>\n",
       "    <tr>\n",
       "      <th>AAAU</th>\n",
       "      <td>True</td>\n",
       "      <td>Goldman Sachs Physical Gold ETF Shares</td>\n",
       "      <td>Z</td>\n",
       "      <td></td>\n",
       "      <td>True</td>\n",
       "      <td>100.0</td>\n",
       "      <td>False</td>\n",
       "      <td>NaN</td>\n",
       "      <td>AAAU</td>\n",
       "      <td>AAAU</td>\n",
       "      <td>False</td>\n",
       "    </tr>\n",
       "    <tr>\n",
       "      <th>AAC</th>\n",
       "      <td>True</td>\n",
       "      <td>Ares Acquisition Corporation Class A Ordinary ...</td>\n",
       "      <td>N</td>\n",
       "      <td></td>\n",
       "      <td>False</td>\n",
       "      <td>100.0</td>\n",
       "      <td>False</td>\n",
       "      <td>NaN</td>\n",
       "      <td>AAC</td>\n",
       "      <td>AAC</td>\n",
       "      <td>False</td>\n",
       "    </tr>\n",
       "    <tr>\n",
       "      <th>...</th>\n",
       "      <td>...</td>\n",
       "      <td>...</td>\n",
       "      <td>...</td>\n",
       "      <td>...</td>\n",
       "      <td>...</td>\n",
       "      <td>...</td>\n",
       "      <td>...</td>\n",
       "      <td>...</td>\n",
       "      <td>...</td>\n",
       "      <td>...</td>\n",
       "      <td>...</td>\n",
       "    </tr>\n",
       "    <tr>\n",
       "      <th>ZXZZT</th>\n",
       "      <td>True</td>\n",
       "      <td>NASDAQ TEST STOCK</td>\n",
       "      <td>Q</td>\n",
       "      <td>G</td>\n",
       "      <td>False</td>\n",
       "      <td>100.0</td>\n",
       "      <td>True</td>\n",
       "      <td>N</td>\n",
       "      <td>NaN</td>\n",
       "      <td>ZXZZT</td>\n",
       "      <td>False</td>\n",
       "    </tr>\n",
       "    <tr>\n",
       "      <th>ZY</th>\n",
       "      <td>True</td>\n",
       "      <td>Zymergen Inc. - Common Stock</td>\n",
       "      <td>Q</td>\n",
       "      <td>Q</td>\n",
       "      <td>False</td>\n",
       "      <td>100.0</td>\n",
       "      <td>False</td>\n",
       "      <td>N</td>\n",
       "      <td>NaN</td>\n",
       "      <td>ZY</td>\n",
       "      <td>False</td>\n",
       "    </tr>\n",
       "    <tr>\n",
       "      <th>ZYME</th>\n",
       "      <td>True</td>\n",
       "      <td>Zymeworks Inc. Common Shares</td>\n",
       "      <td>N</td>\n",
       "      <td></td>\n",
       "      <td>False</td>\n",
       "      <td>100.0</td>\n",
       "      <td>False</td>\n",
       "      <td>NaN</td>\n",
       "      <td>ZYME</td>\n",
       "      <td>ZYME</td>\n",
       "      <td>False</td>\n",
       "    </tr>\n",
       "    <tr>\n",
       "      <th>ZYNE</th>\n",
       "      <td>True</td>\n",
       "      <td>Zynerba Pharmaceuticals, Inc. - Common Stock</td>\n",
       "      <td>Q</td>\n",
       "      <td>G</td>\n",
       "      <td>False</td>\n",
       "      <td>100.0</td>\n",
       "      <td>False</td>\n",
       "      <td>N</td>\n",
       "      <td>NaN</td>\n",
       "      <td>ZYNE</td>\n",
       "      <td>False</td>\n",
       "    </tr>\n",
       "    <tr>\n",
       "      <th>ZYXI</th>\n",
       "      <td>True</td>\n",
       "      <td>Zynex, Inc. - Common Stock</td>\n",
       "      <td>Q</td>\n",
       "      <td>Q</td>\n",
       "      <td>False</td>\n",
       "      <td>100.0</td>\n",
       "      <td>False</td>\n",
       "      <td>N</td>\n",
       "      <td>NaN</td>\n",
       "      <td>ZYXI</td>\n",
       "      <td>False</td>\n",
       "    </tr>\n",
       "  </tbody>\n",
       "</table>\n",
       "<p>12174 rows × 11 columns</p>\n",
       "</div>"
      ],
      "text/plain": [
       "        Nasdaq Traded                                      Security Name  \\\n",
       "Symbol                                                                     \n",
       "A                True            Agilent Technologies, Inc. Common Stock   \n",
       "AA               True                    Alcoa Corporation Common Stock    \n",
       "AAA              True  Listed Funds Trust AAF First Priority CLO Bond...   \n",
       "AAAU             True             Goldman Sachs Physical Gold ETF Shares   \n",
       "AAC              True  Ares Acquisition Corporation Class A Ordinary ...   \n",
       "...               ...                                                ...   \n",
       "ZXZZT            True                                  NASDAQ TEST STOCK   \n",
       "ZY               True                       Zymergen Inc. - Common Stock   \n",
       "ZYME             True                       Zymeworks Inc. Common Shares   \n",
       "ZYNE             True       Zynerba Pharmaceuticals, Inc. - Common Stock   \n",
       "ZYXI             True                         Zynex, Inc. - Common Stock   \n",
       "\n",
       "       Listing Exchange Market Category    ETF  Round Lot Size  Test Issue  \\\n",
       "Symbol                                                                       \n",
       "A                     N                  False           100.0       False   \n",
       "AA                    N                  False           100.0       False   \n",
       "AAA                   P                   True           100.0       False   \n",
       "AAAU                  Z                   True           100.0       False   \n",
       "AAC                   N                  False           100.0       False   \n",
       "...                 ...             ...    ...             ...         ...   \n",
       "ZXZZT                 Q               G  False           100.0        True   \n",
       "ZY                    Q               Q  False           100.0       False   \n",
       "ZYME                  N                  False           100.0       False   \n",
       "ZYNE                  Q               G  False           100.0       False   \n",
       "ZYXI                  Q               Q  False           100.0       False   \n",
       "\n",
       "       Financial Status CQS Symbol NASDAQ Symbol  NextShares  \n",
       "Symbol                                                        \n",
       "A                   NaN          A             A       False  \n",
       "AA                  NaN         AA            AA       False  \n",
       "AAA                 NaN        AAA           AAA       False  \n",
       "AAAU                NaN       AAAU          AAAU       False  \n",
       "AAC                 NaN        AAC           AAC       False  \n",
       "...                 ...        ...           ...         ...  \n",
       "ZXZZT                 N        NaN         ZXZZT       False  \n",
       "ZY                    N        NaN            ZY       False  \n",
       "ZYME                NaN       ZYME          ZYME       False  \n",
       "ZYNE                  N        NaN          ZYNE       False  \n",
       "ZYXI                  N        NaN          ZYXI       False  \n",
       "\n",
       "[12174 rows x 11 columns]"
      ]
     },
     "execution_count": 17,
     "metadata": {},
     "output_type": "execute_result"
    }
   ],
   "source": [
    "symbols"
   ]
  },
  {
   "cell_type": "code",
   "execution_count": 18,
   "id": "cd0619dc",
   "metadata": {},
   "outputs": [
    {
     "data": {
      "text/plain": [
       "Nasdaq Traded                                                    True\n",
       "Security Name       International Business Machines Corporation Co...\n",
       "Listing Exchange                                                    N\n",
       "Market Category                                                      \n",
       "ETF                                                             False\n",
       "Round Lot Size                                                  100.0\n",
       "Test Issue                                                      False\n",
       "Financial Status                                                  NaN\n",
       "CQS Symbol                                                        IBM\n",
       "NASDAQ Symbol                                                     IBM\n",
       "NextShares                                                      False\n",
       "Name: IBM, dtype: object"
      ]
     },
     "execution_count": 18,
     "metadata": {},
     "output_type": "execute_result"
    }
   ],
   "source": [
    "symbols.loc['IBM']"
   ]
  },
  {
   "cell_type": "code",
   "execution_count": 19,
   "id": "32f2d360",
   "metadata": {},
   "outputs": [],
   "source": [
    "#!pip3 install plotly"
   ]
  },
  {
   "cell_type": "code",
   "execution_count": 20,
   "id": "6827d0b3",
   "metadata": {},
   "outputs": [],
   "source": [
    "import plotly.graph_objects as go"
   ]
  },
  {
   "cell_type": "code",
   "execution_count": 21,
   "id": "4221a74f",
   "metadata": {},
   "outputs": [],
   "source": [
    "import pandas_datareader.data as web\n",
    "\n",
    "stock = 'MSFT'\n",
    "start = datetime(2019, 1, 1)\n",
    "\n",
    "df1 = web.DataReader(stock, data_source='yahoo', start=start)\n"
   ]
  },
  {
   "cell_type": "code",
   "execution_count": 22,
   "id": "02ad6a6a",
   "metadata": {},
   "outputs": [
    {
     "data": {
      "text/html": [
       "<div>\n",
       "<style scoped>\n",
       "    .dataframe tbody tr th:only-of-type {\n",
       "        vertical-align: middle;\n",
       "    }\n",
       "\n",
       "    .dataframe tbody tr th {\n",
       "        vertical-align: top;\n",
       "    }\n",
       "\n",
       "    .dataframe thead th {\n",
       "        text-align: right;\n",
       "    }\n",
       "</style>\n",
       "<table border=\"1\" class=\"dataframe\">\n",
       "  <thead>\n",
       "    <tr style=\"text-align: right;\">\n",
       "      <th></th>\n",
       "      <th>High</th>\n",
       "      <th>Low</th>\n",
       "      <th>Open</th>\n",
       "      <th>Close</th>\n",
       "      <th>Volume</th>\n",
       "      <th>Adj Close</th>\n",
       "    </tr>\n",
       "    <tr>\n",
       "      <th>Date</th>\n",
       "      <th></th>\n",
       "      <th></th>\n",
       "      <th></th>\n",
       "      <th></th>\n",
       "      <th></th>\n",
       "      <th></th>\n",
       "    </tr>\n",
       "  </thead>\n",
       "  <tbody>\n",
       "    <tr>\n",
       "      <th>2004-12-31</th>\n",
       "      <td>1.160714</td>\n",
       "      <td>1.143393</td>\n",
       "      <td>1.158750</td>\n",
       "      <td>1.150000</td>\n",
       "      <td>2.785888e+08</td>\n",
       "      <td>0.984715</td>\n",
       "    </tr>\n",
       "    <tr>\n",
       "      <th>2005-01-03</th>\n",
       "      <td>1.162679</td>\n",
       "      <td>1.117857</td>\n",
       "      <td>1.156786</td>\n",
       "      <td>1.130179</td>\n",
       "      <td>6.919920e+08</td>\n",
       "      <td>0.967743</td>\n",
       "    </tr>\n",
       "    <tr>\n",
       "      <th>2005-01-04</th>\n",
       "      <td>1.169107</td>\n",
       "      <td>1.124464</td>\n",
       "      <td>1.139107</td>\n",
       "      <td>1.141786</td>\n",
       "      <td>1.096810e+09</td>\n",
       "      <td>0.977682</td>\n",
       "    </tr>\n",
       "    <tr>\n",
       "      <th>2005-01-05</th>\n",
       "      <td>1.165179</td>\n",
       "      <td>1.143750</td>\n",
       "      <td>1.151071</td>\n",
       "      <td>1.151786</td>\n",
       "      <td>6.804336e+08</td>\n",
       "      <td>0.986245</td>\n",
       "    </tr>\n",
       "    <tr>\n",
       "      <th>2005-01-06</th>\n",
       "      <td>1.159107</td>\n",
       "      <td>1.130893</td>\n",
       "      <td>1.154821</td>\n",
       "      <td>1.152679</td>\n",
       "      <td>7.055552e+08</td>\n",
       "      <td>0.987009</td>\n",
       "    </tr>\n",
       "    <tr>\n",
       "      <th>...</th>\n",
       "      <td>...</td>\n",
       "      <td>...</td>\n",
       "      <td>...</td>\n",
       "      <td>...</td>\n",
       "      <td>...</td>\n",
       "      <td>...</td>\n",
       "    </tr>\n",
       "    <tr>\n",
       "      <th>2022-04-25</th>\n",
       "      <td>163.169998</td>\n",
       "      <td>158.460007</td>\n",
       "      <td>161.119995</td>\n",
       "      <td>162.880005</td>\n",
       "      <td>9.604640e+07</td>\n",
       "      <td>162.880005</td>\n",
       "    </tr>\n",
       "    <tr>\n",
       "      <th>2022-04-26</th>\n",
       "      <td>162.339996</td>\n",
       "      <td>156.720001</td>\n",
       "      <td>162.250000</td>\n",
       "      <td>156.800003</td>\n",
       "      <td>9.562320e+07</td>\n",
       "      <td>156.800003</td>\n",
       "    </tr>\n",
       "    <tr>\n",
       "      <th>2022-04-27</th>\n",
       "      <td>159.789993</td>\n",
       "      <td>155.380005</td>\n",
       "      <td>155.910004</td>\n",
       "      <td>156.570007</td>\n",
       "      <td>8.806320e+07</td>\n",
       "      <td>156.570007</td>\n",
       "    </tr>\n",
       "    <tr>\n",
       "      <th>2022-04-28</th>\n",
       "      <td>164.520004</td>\n",
       "      <td>158.929993</td>\n",
       "      <td>159.250000</td>\n",
       "      <td>163.639999</td>\n",
       "      <td>1.155864e+08</td>\n",
       "      <td>163.639999</td>\n",
       "    </tr>\n",
       "    <tr>\n",
       "      <th>2022-04-29</th>\n",
       "      <td>166.179901</td>\n",
       "      <td>160.800003</td>\n",
       "      <td>161.839996</td>\n",
       "      <td>165.800003</td>\n",
       "      <td>2.569934e+07</td>\n",
       "      <td>165.800003</td>\n",
       "    </tr>\n",
       "  </tbody>\n",
       "</table>\n",
       "<p>4363 rows × 6 columns</p>\n",
       "</div>"
      ],
      "text/plain": [
       "                  High         Low        Open       Close        Volume  \\\n",
       "Date                                                                       \n",
       "2004-12-31    1.160714    1.143393    1.158750    1.150000  2.785888e+08   \n",
       "2005-01-03    1.162679    1.117857    1.156786    1.130179  6.919920e+08   \n",
       "2005-01-04    1.169107    1.124464    1.139107    1.141786  1.096810e+09   \n",
       "2005-01-05    1.165179    1.143750    1.151071    1.151786  6.804336e+08   \n",
       "2005-01-06    1.159107    1.130893    1.154821    1.152679  7.055552e+08   \n",
       "...                ...         ...         ...         ...           ...   \n",
       "2022-04-25  163.169998  158.460007  161.119995  162.880005  9.604640e+07   \n",
       "2022-04-26  162.339996  156.720001  162.250000  156.800003  9.562320e+07   \n",
       "2022-04-27  159.789993  155.380005  155.910004  156.570007  8.806320e+07   \n",
       "2022-04-28  164.520004  158.929993  159.250000  163.639999  1.155864e+08   \n",
       "2022-04-29  166.179901  160.800003  161.839996  165.800003  2.569934e+07   \n",
       "\n",
       "             Adj Close  \n",
       "Date                    \n",
       "2004-12-31    0.984715  \n",
       "2005-01-03    0.967743  \n",
       "2005-01-04    0.977682  \n",
       "2005-01-05    0.986245  \n",
       "2005-01-06    0.987009  \n",
       "...                ...  \n",
       "2022-04-25  162.880005  \n",
       "2022-04-26  156.800003  \n",
       "2022-04-27  156.570007  \n",
       "2022-04-28  163.639999  \n",
       "2022-04-29  165.800003  \n",
       "\n",
       "[4363 rows x 6 columns]"
      ]
     },
     "execution_count": 22,
     "metadata": {},
     "output_type": "execute_result"
    }
   ],
   "source": [
    "df"
   ]
  },
  {
   "cell_type": "code",
   "execution_count": 23,
   "id": "dd6f09a3",
   "metadata": {},
   "outputs": [],
   "source": [
    "stock = 'MSFT'\n",
    "start = datetime(2019, 1, 1)\n",
    "\n",
    "df2 = web.DataReader(stock, data_source='yahoo', start=start)"
   ]
  },
  {
   "cell_type": "code",
   "execution_count": 24,
   "id": "d748c258",
   "metadata": {},
   "outputs": [
    {
     "data": {
      "text/html": [
       "<div>\n",
       "<style scoped>\n",
       "    .dataframe tbody tr th:only-of-type {\n",
       "        vertical-align: middle;\n",
       "    }\n",
       "\n",
       "    .dataframe tbody tr th {\n",
       "        vertical-align: top;\n",
       "    }\n",
       "\n",
       "    .dataframe thead th {\n",
       "        text-align: right;\n",
       "    }\n",
       "</style>\n",
       "<table border=\"1\" class=\"dataframe\">\n",
       "  <thead>\n",
       "    <tr style=\"text-align: right;\">\n",
       "      <th></th>\n",
       "      <th>High</th>\n",
       "      <th>Low</th>\n",
       "      <th>Open</th>\n",
       "      <th>Close</th>\n",
       "      <th>Volume</th>\n",
       "      <th>Adj Close</th>\n",
       "    </tr>\n",
       "    <tr>\n",
       "      <th>Date</th>\n",
       "      <th></th>\n",
       "      <th></th>\n",
       "      <th></th>\n",
       "      <th></th>\n",
       "      <th></th>\n",
       "      <th></th>\n",
       "    </tr>\n",
       "  </thead>\n",
       "  <tbody>\n",
       "    <tr>\n",
       "      <th>2004-12-31</th>\n",
       "      <td>1.160714</td>\n",
       "      <td>1.143393</td>\n",
       "      <td>1.158750</td>\n",
       "      <td>1.150000</td>\n",
       "      <td>2.785888e+08</td>\n",
       "      <td>0.984715</td>\n",
       "    </tr>\n",
       "    <tr>\n",
       "      <th>2005-01-03</th>\n",
       "      <td>1.162679</td>\n",
       "      <td>1.117857</td>\n",
       "      <td>1.156786</td>\n",
       "      <td>1.130179</td>\n",
       "      <td>6.919920e+08</td>\n",
       "      <td>0.967743</td>\n",
       "    </tr>\n",
       "    <tr>\n",
       "      <th>2005-01-04</th>\n",
       "      <td>1.169107</td>\n",
       "      <td>1.124464</td>\n",
       "      <td>1.139107</td>\n",
       "      <td>1.141786</td>\n",
       "      <td>1.096810e+09</td>\n",
       "      <td>0.977682</td>\n",
       "    </tr>\n",
       "    <tr>\n",
       "      <th>2005-01-05</th>\n",
       "      <td>1.165179</td>\n",
       "      <td>1.143750</td>\n",
       "      <td>1.151071</td>\n",
       "      <td>1.151786</td>\n",
       "      <td>6.804336e+08</td>\n",
       "      <td>0.986245</td>\n",
       "    </tr>\n",
       "    <tr>\n",
       "      <th>2005-01-06</th>\n",
       "      <td>1.159107</td>\n",
       "      <td>1.130893</td>\n",
       "      <td>1.154821</td>\n",
       "      <td>1.152679</td>\n",
       "      <td>7.055552e+08</td>\n",
       "      <td>0.987009</td>\n",
       "    </tr>\n",
       "  </tbody>\n",
       "</table>\n",
       "</div>"
      ],
      "text/plain": [
       "                High       Low      Open     Close        Volume  Adj Close\n",
       "Date                                                                       \n",
       "2004-12-31  1.160714  1.143393  1.158750  1.150000  2.785888e+08   0.984715\n",
       "2005-01-03  1.162679  1.117857  1.156786  1.130179  6.919920e+08   0.967743\n",
       "2005-01-04  1.169107  1.124464  1.139107  1.141786  1.096810e+09   0.977682\n",
       "2005-01-05  1.165179  1.143750  1.151071  1.151786  6.804336e+08   0.986245\n",
       "2005-01-06  1.159107  1.130893  1.154821  1.152679  7.055552e+08   0.987009"
      ]
     },
     "execution_count": 24,
     "metadata": {},
     "output_type": "execute_result"
    }
   ],
   "source": [
    "df.head()"
   ]
  },
  {
   "cell_type": "code",
   "execution_count": 25,
   "id": "a025c773",
   "metadata": {},
   "outputs": [
    {
     "data": {
      "text/html": [
       "<div>\n",
       "<style scoped>\n",
       "    .dataframe tbody tr th:only-of-type {\n",
       "        vertical-align: middle;\n",
       "    }\n",
       "\n",
       "    .dataframe tbody tr th {\n",
       "        vertical-align: top;\n",
       "    }\n",
       "\n",
       "    .dataframe thead th {\n",
       "        text-align: right;\n",
       "    }\n",
       "</style>\n",
       "<table border=\"1\" class=\"dataframe\">\n",
       "  <thead>\n",
       "    <tr style=\"text-align: right;\">\n",
       "      <th></th>\n",
       "      <th>High</th>\n",
       "      <th>Low</th>\n",
       "      <th>Open</th>\n",
       "      <th>Close</th>\n",
       "      <th>Volume</th>\n",
       "      <th>Adj Close</th>\n",
       "    </tr>\n",
       "    <tr>\n",
       "      <th>Date</th>\n",
       "      <th></th>\n",
       "      <th></th>\n",
       "      <th></th>\n",
       "      <th></th>\n",
       "      <th></th>\n",
       "      <th></th>\n",
       "    </tr>\n",
       "  </thead>\n",
       "  <tbody>\n",
       "    <tr>\n",
       "      <th>2022-04-25</th>\n",
       "      <td>163.169998</td>\n",
       "      <td>158.460007</td>\n",
       "      <td>161.119995</td>\n",
       "      <td>162.880005</td>\n",
       "      <td>96046400.0</td>\n",
       "      <td>162.880005</td>\n",
       "    </tr>\n",
       "    <tr>\n",
       "      <th>2022-04-26</th>\n",
       "      <td>162.339996</td>\n",
       "      <td>156.720001</td>\n",
       "      <td>162.250000</td>\n",
       "      <td>156.800003</td>\n",
       "      <td>95623200.0</td>\n",
       "      <td>156.800003</td>\n",
       "    </tr>\n",
       "    <tr>\n",
       "      <th>2022-04-27</th>\n",
       "      <td>159.789993</td>\n",
       "      <td>155.380005</td>\n",
       "      <td>155.910004</td>\n",
       "      <td>156.570007</td>\n",
       "      <td>88063200.0</td>\n",
       "      <td>156.570007</td>\n",
       "    </tr>\n",
       "    <tr>\n",
       "      <th>2022-04-28</th>\n",
       "      <td>164.520004</td>\n",
       "      <td>158.929993</td>\n",
       "      <td>159.250000</td>\n",
       "      <td>163.639999</td>\n",
       "      <td>115586400.0</td>\n",
       "      <td>163.639999</td>\n",
       "    </tr>\n",
       "    <tr>\n",
       "      <th>2022-04-29</th>\n",
       "      <td>166.179901</td>\n",
       "      <td>160.800003</td>\n",
       "      <td>161.839996</td>\n",
       "      <td>165.800003</td>\n",
       "      <td>25699345.0</td>\n",
       "      <td>165.800003</td>\n",
       "    </tr>\n",
       "  </tbody>\n",
       "</table>\n",
       "</div>"
      ],
      "text/plain": [
       "                  High         Low        Open       Close       Volume  \\\n",
       "Date                                                                      \n",
       "2022-04-25  163.169998  158.460007  161.119995  162.880005   96046400.0   \n",
       "2022-04-26  162.339996  156.720001  162.250000  156.800003   95623200.0   \n",
       "2022-04-27  159.789993  155.380005  155.910004  156.570007   88063200.0   \n",
       "2022-04-28  164.520004  158.929993  159.250000  163.639999  115586400.0   \n",
       "2022-04-29  166.179901  160.800003  161.839996  165.800003   25699345.0   \n",
       "\n",
       "             Adj Close  \n",
       "Date                    \n",
       "2022-04-25  162.880005  \n",
       "2022-04-26  156.800003  \n",
       "2022-04-27  156.570007  \n",
       "2022-04-28  163.639999  \n",
       "2022-04-29  165.800003  "
      ]
     },
     "execution_count": 25,
     "metadata": {},
     "output_type": "execute_result"
    }
   ],
   "source": [
    "df.tail()"
   ]
  },
  {
   "cell_type": "code",
   "execution_count": 26,
   "id": "a73a203d",
   "metadata": {},
   "outputs": [],
   "source": [
    "df=df.reset_index()"
   ]
  },
  {
   "cell_type": "code",
   "execution_count": 27,
   "id": "e862a3b2",
   "metadata": {},
   "outputs": [
    {
     "data": {
      "text/html": [
       "<div>\n",
       "<style scoped>\n",
       "    .dataframe tbody tr th:only-of-type {\n",
       "        vertical-align: middle;\n",
       "    }\n",
       "\n",
       "    .dataframe tbody tr th {\n",
       "        vertical-align: top;\n",
       "    }\n",
       "\n",
       "    .dataframe thead th {\n",
       "        text-align: right;\n",
       "    }\n",
       "</style>\n",
       "<table border=\"1\" class=\"dataframe\">\n",
       "  <thead>\n",
       "    <tr style=\"text-align: right;\">\n",
       "      <th></th>\n",
       "      <th>Date</th>\n",
       "      <th>High</th>\n",
       "      <th>Low</th>\n",
       "      <th>Open</th>\n",
       "      <th>Close</th>\n",
       "      <th>Volume</th>\n",
       "      <th>Adj Close</th>\n",
       "    </tr>\n",
       "  </thead>\n",
       "  <tbody>\n",
       "    <tr>\n",
       "      <th>0</th>\n",
       "      <td>2004-12-31</td>\n",
       "      <td>1.160714</td>\n",
       "      <td>1.143393</td>\n",
       "      <td>1.158750</td>\n",
       "      <td>1.150000</td>\n",
       "      <td>2.785888e+08</td>\n",
       "      <td>0.984715</td>\n",
       "    </tr>\n",
       "    <tr>\n",
       "      <th>1</th>\n",
       "      <td>2005-01-03</td>\n",
       "      <td>1.162679</td>\n",
       "      <td>1.117857</td>\n",
       "      <td>1.156786</td>\n",
       "      <td>1.130179</td>\n",
       "      <td>6.919920e+08</td>\n",
       "      <td>0.967743</td>\n",
       "    </tr>\n",
       "    <tr>\n",
       "      <th>2</th>\n",
       "      <td>2005-01-04</td>\n",
       "      <td>1.169107</td>\n",
       "      <td>1.124464</td>\n",
       "      <td>1.139107</td>\n",
       "      <td>1.141786</td>\n",
       "      <td>1.096810e+09</td>\n",
       "      <td>0.977682</td>\n",
       "    </tr>\n",
       "    <tr>\n",
       "      <th>3</th>\n",
       "      <td>2005-01-05</td>\n",
       "      <td>1.165179</td>\n",
       "      <td>1.143750</td>\n",
       "      <td>1.151071</td>\n",
       "      <td>1.151786</td>\n",
       "      <td>6.804336e+08</td>\n",
       "      <td>0.986245</td>\n",
       "    </tr>\n",
       "    <tr>\n",
       "      <th>4</th>\n",
       "      <td>2005-01-06</td>\n",
       "      <td>1.159107</td>\n",
       "      <td>1.130893</td>\n",
       "      <td>1.154821</td>\n",
       "      <td>1.152679</td>\n",
       "      <td>7.055552e+08</td>\n",
       "      <td>0.987009</td>\n",
       "    </tr>\n",
       "  </tbody>\n",
       "</table>\n",
       "</div>"
      ],
      "text/plain": [
       "        Date      High       Low      Open     Close        Volume  Adj Close\n",
       "0 2004-12-31  1.160714  1.143393  1.158750  1.150000  2.785888e+08   0.984715\n",
       "1 2005-01-03  1.162679  1.117857  1.156786  1.130179  6.919920e+08   0.967743\n",
       "2 2005-01-04  1.169107  1.124464  1.139107  1.141786  1.096810e+09   0.977682\n",
       "3 2005-01-05  1.165179  1.143750  1.151071  1.151786  6.804336e+08   0.986245\n",
       "4 2005-01-06  1.159107  1.130893  1.154821  1.152679  7.055552e+08   0.987009"
      ]
     },
     "execution_count": 27,
     "metadata": {},
     "output_type": "execute_result"
    }
   ],
   "source": [
    "df.head()"
   ]
  },
  {
   "cell_type": "code",
   "execution_count": 28,
   "id": "d70960c2",
   "metadata": {},
   "outputs": [
    {
     "data": {
      "text/html": [
       "<div>\n",
       "<style scoped>\n",
       "    .dataframe tbody tr th:only-of-type {\n",
       "        vertical-align: middle;\n",
       "    }\n",
       "\n",
       "    .dataframe tbody tr th {\n",
       "        vertical-align: top;\n",
       "    }\n",
       "\n",
       "    .dataframe thead th {\n",
       "        text-align: right;\n",
       "    }\n",
       "</style>\n",
       "<table border=\"1\" class=\"dataframe\">\n",
       "  <thead>\n",
       "    <tr style=\"text-align: right;\">\n",
       "      <th></th>\n",
       "      <th>High</th>\n",
       "      <th>Low</th>\n",
       "      <th>Open</th>\n",
       "      <th>Close</th>\n",
       "      <th>Volume</th>\n",
       "    </tr>\n",
       "  </thead>\n",
       "  <tbody>\n",
       "    <tr>\n",
       "      <th>0</th>\n",
       "      <td>1.160714</td>\n",
       "      <td>1.143393</td>\n",
       "      <td>1.158750</td>\n",
       "      <td>1.150000</td>\n",
       "      <td>2.785888e+08</td>\n",
       "    </tr>\n",
       "    <tr>\n",
       "      <th>1</th>\n",
       "      <td>1.162679</td>\n",
       "      <td>1.117857</td>\n",
       "      <td>1.156786</td>\n",
       "      <td>1.130179</td>\n",
       "      <td>6.919920e+08</td>\n",
       "    </tr>\n",
       "    <tr>\n",
       "      <th>2</th>\n",
       "      <td>1.169107</td>\n",
       "      <td>1.124464</td>\n",
       "      <td>1.139107</td>\n",
       "      <td>1.141786</td>\n",
       "      <td>1.096810e+09</td>\n",
       "    </tr>\n",
       "    <tr>\n",
       "      <th>3</th>\n",
       "      <td>1.165179</td>\n",
       "      <td>1.143750</td>\n",
       "      <td>1.151071</td>\n",
       "      <td>1.151786</td>\n",
       "      <td>6.804336e+08</td>\n",
       "    </tr>\n",
       "    <tr>\n",
       "      <th>4</th>\n",
       "      <td>1.159107</td>\n",
       "      <td>1.130893</td>\n",
       "      <td>1.154821</td>\n",
       "      <td>1.152679</td>\n",
       "      <td>7.055552e+08</td>\n",
       "    </tr>\n",
       "  </tbody>\n",
       "</table>\n",
       "</div>"
      ],
      "text/plain": [
       "       High       Low      Open     Close        Volume\n",
       "0  1.160714  1.143393  1.158750  1.150000  2.785888e+08\n",
       "1  1.162679  1.117857  1.156786  1.130179  6.919920e+08\n",
       "2  1.169107  1.124464  1.139107  1.141786  1.096810e+09\n",
       "3  1.165179  1.143750  1.151071  1.151786  6.804336e+08\n",
       "4  1.159107  1.130893  1.154821  1.152679  7.055552e+08"
      ]
     },
     "execution_count": 28,
     "metadata": {},
     "output_type": "execute_result"
    }
   ],
   "source": [
    "df=df.drop(['Date','Adj Close'],axis=1)\n",
    "df.head()"
   ]
  },
  {
   "cell_type": "code",
   "execution_count": 29,
   "id": "07c9916a",
   "metadata": {},
   "outputs": [
    {
     "data": {
      "text/plain": [
       "[<matplotlib.lines.Line2D at 0x1f4f176f250>]"
      ]
     },
     "execution_count": 29,
     "metadata": {},
     "output_type": "execute_result"
    },
    {
     "data": {
      "image/png": "[encoded data removed]",
      "text/plain": [
       "<Figure size 432x288 with 1 Axes>"
      ]
     },
     "metadata": {
      "needs_background": "light"
     },
     "output_type": "display_data"
    }
   ],
   "source": [
    "plt.plot(df.Close)"
   ]
  },
  {
   "cell_type": "code",
   "execution_count": 30,
   "id": "095fc76b",
   "metadata": {},
   "outputs": [
    {
     "data": {
      "text/html": [
       "<div>\n",
       "<style scoped>\n",
       "    .dataframe tbody tr th:only-of-type {\n",
       "        vertical-align: middle;\n",
       "    }\n",
       "\n",
       "    .dataframe tbody tr th {\n",
       "        vertical-align: top;\n",
       "    }\n",
       "\n",
       "    .dataframe thead th {\n",
       "        text-align: right;\n",
       "    }\n",
       "</style>\n",
       "<table border=\"1\" class=\"dataframe\">\n",
       "  <thead>\n",
       "    <tr style=\"text-align: right;\">\n",
       "      <th></th>\n",
       "      <th>High</th>\n",
       "      <th>Low</th>\n",
       "      <th>Open</th>\n",
       "      <th>Close</th>\n",
       "      <th>Volume</th>\n",
       "    </tr>\n",
       "  </thead>\n",
       "  <tbody>\n",
       "    <tr>\n",
       "      <th>0</th>\n",
       "      <td>1.160714</td>\n",
       "      <td>1.143393</td>\n",
       "      <td>1.158750</td>\n",
       "      <td>1.150000</td>\n",
       "      <td>2.785888e+08</td>\n",
       "    </tr>\n",
       "    <tr>\n",
       "      <th>1</th>\n",
       "      <td>1.162679</td>\n",
       "      <td>1.117857</td>\n",
       "      <td>1.156786</td>\n",
       "      <td>1.130179</td>\n",
       "      <td>6.919920e+08</td>\n",
       "    </tr>\n",
       "    <tr>\n",
       "      <th>2</th>\n",
       "      <td>1.169107</td>\n",
       "      <td>1.124464</td>\n",
       "      <td>1.139107</td>\n",
       "      <td>1.141786</td>\n",
       "      <td>1.096810e+09</td>\n",
       "    </tr>\n",
       "    <tr>\n",
       "      <th>3</th>\n",
       "      <td>1.165179</td>\n",
       "      <td>1.143750</td>\n",
       "      <td>1.151071</td>\n",
       "      <td>1.151786</td>\n",
       "      <td>6.804336e+08</td>\n",
       "    </tr>\n",
       "    <tr>\n",
       "      <th>4</th>\n",
       "      <td>1.159107</td>\n",
       "      <td>1.130893</td>\n",
       "      <td>1.154821</td>\n",
       "      <td>1.152679</td>\n",
       "      <td>7.055552e+08</td>\n",
       "    </tr>\n",
       "    <tr>\n",
       "      <th>...</th>\n",
       "      <td>...</td>\n",
       "      <td>...</td>\n",
       "      <td>...</td>\n",
       "      <td>...</td>\n",
       "      <td>...</td>\n",
       "    </tr>\n",
       "    <tr>\n",
       "      <th>4358</th>\n",
       "      <td>163.169998</td>\n",
       "      <td>158.460007</td>\n",
       "      <td>161.119995</td>\n",
       "      <td>162.880005</td>\n",
       "      <td>9.604640e+07</td>\n",
       "    </tr>\n",
       "    <tr>\n",
       "      <th>4359</th>\n",
       "      <td>162.339996</td>\n",
       "      <td>156.720001</td>\n",
       "      <td>162.250000</td>\n",
       "      <td>156.800003</td>\n",
       "      <td>9.562320e+07</td>\n",
       "    </tr>\n",
       "    <tr>\n",
       "      <th>4360</th>\n",
       "      <td>159.789993</td>\n",
       "      <td>155.380005</td>\n",
       "      <td>155.910004</td>\n",
       "      <td>156.570007</td>\n",
       "      <td>8.806320e+07</td>\n",
       "    </tr>\n",
       "    <tr>\n",
       "      <th>4361</th>\n",
       "      <td>164.520004</td>\n",
       "      <td>158.929993</td>\n",
       "      <td>159.250000</td>\n",
       "      <td>163.639999</td>\n",
       "      <td>1.155864e+08</td>\n",
       "    </tr>\n",
       "    <tr>\n",
       "      <th>4362</th>\n",
       "      <td>166.179901</td>\n",
       "      <td>160.800003</td>\n",
       "      <td>161.839996</td>\n",
       "      <td>165.800003</td>\n",
       "      <td>2.569934e+07</td>\n",
       "    </tr>\n",
       "  </tbody>\n",
       "</table>\n",
       "<p>4363 rows × 5 columns</p>\n",
       "</div>"
      ],
      "text/plain": [
       "            High         Low        Open       Close        Volume\n",
       "0       1.160714    1.143393    1.158750    1.150000  2.785888e+08\n",
       "1       1.162679    1.117857    1.156786    1.130179  6.919920e+08\n",
       "2       1.169107    1.124464    1.139107    1.141786  1.096810e+09\n",
       "3       1.165179    1.143750    1.151071    1.151786  6.804336e+08\n",
       "4       1.159107    1.130893    1.154821    1.152679  7.055552e+08\n",
       "...          ...         ...         ...         ...           ...\n",
       "4358  163.169998  158.460007  161.119995  162.880005  9.604640e+07\n",
       "4359  162.339996  156.720001  162.250000  156.800003  9.562320e+07\n",
       "4360  159.789993  155.380005  155.910004  156.570007  8.806320e+07\n",
       "4361  164.520004  158.929993  159.250000  163.639999  1.155864e+08\n",
       "4362  166.179901  160.800003  161.839996  165.800003  2.569934e+07\n",
       "\n",
       "[4363 rows x 5 columns]"
      ]
     },
     "execution_count": 30,
     "metadata": {},
     "output_type": "execute_result"
    }
   ],
   "source": [
    "df"
   ]
  },
  {
   "cell_type": "code",
   "execution_count": 31,
   "id": "521d71bf",
   "metadata": {},
   "outputs": [],
   "source": [
    "ma100=df.Close.rolling(100).mean()"
   ]
  },
  {
   "cell_type": "code",
   "execution_count": 32,
   "id": "9a8f18bf",
   "metadata": {},
   "outputs": [
    {
     "data": {
      "text/plain": [
       "0            NaN\n",
       "1            NaN\n",
       "2            NaN\n",
       "3            NaN\n",
       "4            NaN\n",
       "          ...   \n",
       "4358    169.4606\n",
       "4359    169.3809\n",
       "4360    169.3090\n",
       "4361    169.3270\n",
       "4362    169.3318\n",
       "Name: Close, Length: 4363, dtype: float64"
      ]
     },
     "execution_count": 32,
     "metadata": {},
     "output_type": "execute_result"
    }
   ],
   "source": [
    "ma100"
   ]
  },
  {
   "cell_type": "code",
   "execution_count": 33,
   "id": "1cda1d6b",
   "metadata": {},
   "outputs": [
    {
     "data": {
      "text/plain": [
       "[<matplotlib.lines.Line2D at 0x1f4f14c1a60>]"
      ]
     },
     "execution_count": 33,
     "metadata": {},
     "output_type": "execute_result"
    },
    {
     "data": {
      "image/png": "[encoded data removed]",
      "text/plain": [
       "<Figure size 864x432 with 1 Axes>"
      ]
     },
     "metadata": {
      "needs_background": "light"
     },
     "output_type": "display_data"
    }
   ],
   "source": [
    "plt.figure(figsize=(12,6))\n",
    "plt.plot(df.Close)\n",
    "plt.plot(ma100,'r')"
   ]
  },
  {
   "cell_type": "code",
   "execution_count": 34,
   "id": "e78767f0",
   "metadata": {},
   "outputs": [
    {
     "data": {
      "text/plain": [
       "0             NaN\n",
       "1             NaN\n",
       "2             NaN\n",
       "3             NaN\n",
       "4             NaN\n",
       "          ...    \n",
       "4358    159.06185\n",
       "4359    159.12335\n",
       "4360    159.17800\n",
       "4361    159.25045\n",
       "4362    159.33705\n",
       "Name: Close, Length: 4363, dtype: float64"
      ]
     },
     "execution_count": 34,
     "metadata": {},
     "output_type": "execute_result"
    }
   ],
   "source": [
    "ma200=df.Close.rolling(200).mean()\n",
    "ma200"
   ]
  },
  {
   "cell_type": "code",
   "execution_count": 35,
   "id": "e2c6d4c6",
   "metadata": {},
   "outputs": [
    {
     "data": {
      "text/plain": [
       "[<matplotlib.lines.Line2D at 0x1f4f1332790>]"
      ]
     },
     "execution_count": 35,
     "metadata": {},
     "output_type": "execute_result"
    },
    {
     "data": {
      "image/png": "[encoded data removed]",
      "text/plain": [
       "<Figure size 864x432 with 1 Axes>"
      ]
     },
     "metadata": {
      "needs_background": "light"
     },
     "output_type": "display_data"
    }
   ],
   "source": [
    "plt.figure(figsize=(12,6))\n",
    "plt.plot(df.Close)\n",
    "plt.plot(ma100,'r')\n",
    "plt.plot(ma200,'g')"
   ]
  },
  {
   "cell_type": "code",
   "execution_count": 36,
   "id": "be92b481",
   "metadata": {},
   "outputs": [
    {
     "data": {
      "text/plain": [
       "(4363, 5)"
      ]
     },
     "execution_count": 36,
     "metadata": {},
     "output_type": "execute_result"
    }
   ],
   "source": [
    "df.shape"
   ]
  },
  {
   "cell_type": "code",
   "execution_count": 37,
   "id": "0691d9fc",
   "metadata": {},
   "outputs": [],
   "source": [
    "# splitting data into training and testing\n",
    "\n",
    "data_training=pd.DataFrame(df['Close'][0:int(len(df)*0.70)])\n",
    "data_testing=pd.DataFrame(df['Close'][int(len(df)*0.70):int(len(df))])"
   ]
  },
  {
   "cell_type": "code",
   "execution_count": 38,
   "id": "3fafde74",
   "metadata": {
    "scrolled": true
   },
   "outputs": [
    {
     "name": "stdout",
     "output_type": "stream",
     "text": [
      "(3054, 1)\n",
      "(1309, 1)\n"
     ]
    }
   ],
   "source": [
    "print(data_training.shape)\n",
    "print(data_testing.shape)"
   ]
  },
  {
   "cell_type": "code",
   "execution_count": 39,
   "id": "25984289",
   "metadata": {},
   "outputs": [
    {
     "data": {
      "text/html": [
       "<div>\n",
       "<style scoped>\n",
       "    .dataframe tbody tr th:only-of-type {\n",
       "        vertical-align: middle;\n",
       "    }\n",
       "\n",
       "    .dataframe tbody tr th {\n",
       "        vertical-align: top;\n",
       "    }\n",
       "\n",
       "    .dataframe thead th {\n",
       "        text-align: right;\n",
       "    }\n",
       "</style>\n",
       "<table border=\"1\" class=\"dataframe\">\n",
       "  <thead>\n",
       "    <tr style=\"text-align: right;\">\n",
       "      <th></th>\n",
       "      <th>Close</th>\n",
       "    </tr>\n",
       "  </thead>\n",
       "  <tbody>\n",
       "    <tr>\n",
       "      <th>0</th>\n",
       "      <td>1.150000</td>\n",
       "    </tr>\n",
       "    <tr>\n",
       "      <th>1</th>\n",
       "      <td>1.130179</td>\n",
       "    </tr>\n",
       "    <tr>\n",
       "      <th>2</th>\n",
       "      <td>1.141786</td>\n",
       "    </tr>\n",
       "    <tr>\n",
       "      <th>3</th>\n",
       "      <td>1.151786</td>\n",
       "    </tr>\n",
       "    <tr>\n",
       "      <th>4</th>\n",
       "      <td>1.152679</td>\n",
       "    </tr>\n",
       "  </tbody>\n",
       "</table>\n",
       "</div>"
      ],
      "text/plain": [
       "      Close\n",
       "0  1.150000\n",
       "1  1.130179\n",
       "2  1.141786\n",
       "3  1.151786\n",
       "4  1.152679"
      ]
     },
     "execution_count": 39,
     "metadata": {},
     "output_type": "execute_result"
    }
   ],
   "source": [
    "data_training.head()"
   ]
  },
  {
   "cell_type": "code",
   "execution_count": 40,
   "id": "6382e90a",
   "metadata": {},
   "outputs": [
    {
     "data": {
      "text/html": [
       "<div>\n",
       "<style scoped>\n",
       "    .dataframe tbody tr th:only-of-type {\n",
       "        vertical-align: middle;\n",
       "    }\n",
       "\n",
       "    .dataframe tbody tr th {\n",
       "        vertical-align: top;\n",
       "    }\n",
       "\n",
       "    .dataframe thead th {\n",
       "        text-align: right;\n",
       "    }\n",
       "</style>\n",
       "<table border=\"1\" class=\"dataframe\">\n",
       "  <thead>\n",
       "    <tr style=\"text-align: right;\">\n",
       "      <th></th>\n",
       "      <th>Close</th>\n",
       "    </tr>\n",
       "  </thead>\n",
       "  <tbody>\n",
       "    <tr>\n",
       "      <th>3054</th>\n",
       "      <td>33.930000</td>\n",
       "    </tr>\n",
       "    <tr>\n",
       "      <th>3055</th>\n",
       "      <td>34.174999</td>\n",
       "    </tr>\n",
       "    <tr>\n",
       "      <th>3056</th>\n",
       "      <td>34.277500</td>\n",
       "    </tr>\n",
       "    <tr>\n",
       "      <th>3057</th>\n",
       "      <td>34.132500</td>\n",
       "    </tr>\n",
       "    <tr>\n",
       "      <th>3058</th>\n",
       "      <td>34.165001</td>\n",
       "    </tr>\n",
       "  </tbody>\n",
       "</table>\n",
       "</div>"
      ],
      "text/plain": [
       "          Close\n",
       "3054  33.930000\n",
       "3055  34.174999\n",
       "3056  34.277500\n",
       "3057  34.132500\n",
       "3058  34.165001"
      ]
     },
     "execution_count": 40,
     "metadata": {},
     "output_type": "execute_result"
    }
   ],
   "source": [
    "data_testing.head()"
   ]
  },
  {
   "cell_type": "code",
   "execution_count": 41,
   "id": "f450626c",
   "metadata": {},
   "outputs": [],
   "source": [
    "from sklearn.preprocessing import MinMaxScaler\n",
    "scaler=MinMaxScaler(feature_range=(0,1))"
   ]
  },
  {
   "cell_type": "code",
   "execution_count": 42,
   "id": "ca886bb0",
   "metadata": {},
   "outputs": [
    {
     "data": {
      "text/plain": [
       "array([[6.05268731e-04],\n",
       "       [0.00000000e+00],\n",
       "       [3.54439137e-04],\n",
       "       ...,\n",
       "       [9.96259310e-01],\n",
       "       [1.00000000e+00],\n",
       "       [9.98778615e-01]])"
      ]
     },
     "execution_count": 42,
     "metadata": {},
     "output_type": "execute_result"
    }
   ],
   "source": [
    "data_training_array=scaler.fit_transform(data_training)\n",
    "data_training_array"
   ]
  },
  {
   "cell_type": "code",
   "execution_count": 43,
   "id": "eef92009",
   "metadata": {},
   "outputs": [
    {
     "data": {
      "text/plain": [
       "(3054, 1)"
      ]
     },
     "execution_count": 43,
     "metadata": {},
     "output_type": "execute_result"
    }
   ],
   "source": [
    "data_training_array.shape"
   ]
  },
  {
   "cell_type": "code",
   "execution_count": 44,
   "id": "a1d35e7b",
   "metadata": {},
   "outputs": [],
   "source": [
    "x_train=[]\n",
    "y_train=[]\n",
    "\n",
    "for i in range(100,data_training_array.shape[0]):\n",
    "    x_train.append(data_training_array[i-100:i])\n",
    "    y_train.append(data_training_array[i,0])\n",
    "    \n",
    "\n",
    "\n",
    "x_train,y_train=np.array(x_train),np.array(y_train)"
   ]
  },
  {
   "cell_type": "code",
   "execution_count": 45,
   "id": "679c29df",
   "metadata": {},
   "outputs": [],
   "source": [
    "#ml model"
   ]
  },
  {
   "cell_type": "code",
   "execution_count": 46,
   "id": "08b74ee1",
   "metadata": {},
   "outputs": [],
   "source": [
    "model=Sequential()\n",
    "model.add(LSTM(units=50,activation='relu',\n",
    "               return_sequences=True,\n",
    "               input_shape=(x_train.shape[1],1)))\n",
    "model.add(Dropout(0.2))\n",
    "\n",
    "\n",
    "\n",
    "model.add(LSTM(units=60,activation='relu',return_sequences=True))\n",
    "model.add(Dropout(0.3))\n",
    "\n",
    "\n",
    "model.add(LSTM(units=80,activation='relu',return_sequences=True))\n",
    "model.add(Dropout(0.4))\n",
    "\n",
    "\n",
    "model.add(LSTM(units=120,activation='relu'))\n",
    "model.add(Dropout(0.5))\n",
    "\n",
    "\n",
    "model.add(Dense(units=1))"
   ]
  },
  {
   "cell_type": "code",
   "execution_count": 47,
   "id": "d05ed000",
   "metadata": {},
   "outputs": [
    {
     "name": "stdout",
     "output_type": "stream",
     "text": [
      "Model: \"sequential\"\n",
      "_________________________________________________________________\n",
      "Layer (type)                 Output Shape              Param #   \n",
      "=================================================================\n",
      "lstm (LSTM)                  (None, 100, 50)           10400     \n",
      "_________________________________________________________________\n",
      "dropout (Dropout)            (None, 100, 50)           0         \n",
      "_________________________________________________________________\n",
      "lstm_1 (LSTM)                (None, 100, 60)           26640     \n",
      "_________________________________________________________________\n",
      "dropout_1 (Dropout)          (None, 100, 60)           0         \n",
      "_________________________________________________________________\n",
      "lstm_2 (LSTM)                (None, 100, 80)           45120     \n",
      "_________________________________________________________________\n",
      "dropout_2 (Dropout)          (None, 100, 80)           0         \n",
      "_________________________________________________________________\n",
      "lstm_3 (LSTM)                (None, 120)               96480     \n",
      "_________________________________________________________________\n",
      "dropout_3 (Dropout)          (None, 120)               0         \n",
      "_________________________________________________________________\n",
      "dense (Dense)                (None, 1)                 121       \n",
      "=================================================================\n",
      "Total params: 178,761\n",
      "Trainable params: 178,761\n",
      "Non-trainable params: 0\n",
      "_________________________________________________________________\n"
     ]
    }
   ],
   "source": [
    "model.summary()"
   ]
  },
  {
   "cell_type": "code",
   "execution_count": null,
   "id": "fe0a13a2",
   "metadata": {},
   "outputs": [
    {
     "name": "stdout",
     "output_type": "stream",
     "text": [
      "Epoch 1/50\n",
      "93/93 [==============================] - 29s 258ms/step - loss: 0.0376\n",
      "Epoch 2/50\n",
      "93/93 [==============================] - 27s 292ms/step - loss: 0.0077\n",
      "Epoch 3/50\n",
      "48/93 [==============>...............] - ETA: 13s - loss: 0.0071"
     ]
    }
   ],
   "source": [
    "model.compile(optimizer='adam',loss='mean_squared_error')\n",
    "model.fit(x_train,y_train,epochs=50)"
   ]
  },
  {
   "cell_type": "code",
   "execution_count": null,
   "id": "18eb58b3",
   "metadata": {},
   "outputs": [],
   "source": [
    "# model.save('keras_model.h5')"
   ]
  },
  {
   "cell_type": "code",
   "execution_count": null,
   "id": "a3d57d34",
   "metadata": {},
   "outputs": [],
   "source": [
    "data_testing.head()"
   ]
  },
  {
   "cell_type": "code",
   "execution_count": null,
   "id": "ddfc3350",
   "metadata": {},
   "outputs": [],
   "source": [
    "data_training.tail(100)"
   ]
  },
  {
   "cell_type": "code",
   "execution_count": null,
   "id": "8fe7bbf4",
   "metadata": {},
   "outputs": [],
   "source": [
    "past_100_days=data_training.tail(100)"
   ]
  },
  {
   "cell_type": "code",
   "execution_count": null,
   "id": "da49b11a",
   "metadata": {},
   "outputs": [],
   "source": [
    "final_df=past_100_days.append(data_testing,ignore_index=True)"
   ]
  },
  {
   "cell_type": "code",
   "execution_count": null,
   "id": "30683bd5",
   "metadata": {
    "scrolled": true
   },
   "outputs": [],
   "source": [
    "final_df.head()"
   ]
  },
  {
   "cell_type": "code",
   "execution_count": null,
   "id": "976aee4b",
   "metadata": {},
   "outputs": [],
   "source": [
    "input_data=scaler.fit_transform(final_df)"
   ]
  },
  {
   "cell_type": "code",
   "execution_count": null,
   "id": "cb445551",
   "metadata": {},
   "outputs": [],
   "source": [
    "input_data"
   ]
  },
  {
   "cell_type": "code",
   "execution_count": null,
   "id": "620618e7",
   "metadata": {},
   "outputs": [],
   "source": [
    "input_data.shape"
   ]
  },
  {
   "cell_type": "code",
   "execution_count": null,
   "id": "0a16a653",
   "metadata": {},
   "outputs": [],
   "source": [
    "x_test=[]\n",
    "y_test=[]\n",
    "\n",
    "for i in range(100,input_data.shape[0]):\n",
    "    x_test.append(input_data[i-100:i])\n",
    "    y_test.append(input_data[i,0])"
   ]
  },
  {
   "cell_type": "code",
   "execution_count": null,
   "id": "5e013c12",
   "metadata": {},
   "outputs": [],
   "source": [
    "x_test,y_test=np.array(x_test),np.array(y_test)\n",
    "print(x_test.shape)\n",
    "print(y_test.shape)"
   ]
  },
  {
   "cell_type": "code",
   "execution_count": null,
   "id": "789ad547",
   "metadata": {},
   "outputs": [],
   "source": [
    "# making predictions\n",
    "y_predicted=model.predict(x_test)"
   ]
  },
  {
   "cell_type": "code",
   "execution_count": null,
   "id": "eace23ec",
   "metadata": {},
   "outputs": [],
   "source": [
    "y_predicted.shape"
   ]
  },
  {
   "cell_type": "code",
   "execution_count": null,
   "id": "eb58b48d",
   "metadata": {},
   "outputs": [],
   "source": [
    "y_test"
   ]
  },
  {
   "cell_type": "code",
   "execution_count": null,
   "id": "3c6e0f4b",
   "metadata": {},
   "outputs": [],
   "source": [
    "y_predicted"
   ]
  },
  {
   "cell_type": "code",
   "execution_count": null,
   "id": "3443257c",
   "metadata": {},
   "outputs": [],
   "source": [
    "scaler.scale_"
   ]
  },
  {
   "cell_type": "code",
   "execution_count": null,
   "id": "bba1c310",
   "metadata": {},
   "outputs": [],
   "source": [
    "scaler_factor=1/0.02099517"
   ]
  },
  {
   "cell_type": "code",
   "execution_count": null,
   "id": "8449c321",
   "metadata": {},
   "outputs": [],
   "source": [
    "y_predicted=y_predicted*scaler_factor\n",
    "y_test=y_test*scaler_factor"
   ]
  },
  {
   "cell_type": "code",
   "execution_count": null,
   "id": "41dffd08",
   "metadata": {},
   "outputs": [],
   "source": [
    "plt.figure(figsize=(12,6))\n",
    "plt.plot(y_test,'b',label='Original Price')\n",
    "plt.plot(y_predicted,'r',label='Predicted Price')\n",
    "plt.xlabel('Time')\n",
    "plt.ylabel('Price')\n",
    "plt.legend()\n",
    "plt.show()"
   ]
  },
  {
   "cell_type": "code",
   "execution_count": null,
   "id": "2c4dc3e7",
   "metadata": {},
   "outputs": [],
   "source": [
    "from prophet.plot import plot_plotly,plot_components_plotly\n",
    "from prophet import Prophet"
   ]
  },
  {
   "cell_type": "code",
   "execution_count": null,
   "id": "03a079f4",
   "metadata": {},
   "outputs": [],
   "source": [
    "m=Prophet()"
   ]
  },
  {
   "cell_type": "code",
   "execution_count": null,
   "id": "f74832cf",
   "metadata": {},
   "outputs": [],
   "source": [
    "from pandas import read_csv\n",
    "from pandas import to_datetime\n",
    "# load data\n",
    "path = 'https://raw.githubusercontent.com/jbrownlee/Datasets/master/monthly-car-sales.csv'\n",
    "df2 = read_csv(path, header=0)"
   ]
  },
  {
   "cell_type": "code",
   "execution_count": null,
   "id": "a611a811",
   "metadata": {},
   "outputs": [],
   "source": [
    "df2.columns = ['ds', 'y']\n",
    "df2['ds']= to_datetime(df['ds'])"
   ]
  },
  {
   "cell_type": "code",
   "execution_count": null,
   "id": "4ffe8e30",
   "metadata": {},
   "outputs": [],
   "source": [
    "m.fit(df2)"
   ]
  },
  {
   "cell_type": "code",
   "execution_count": null,
   "id": "d1be7de4",
   "metadata": {},
   "outputs": [],
   "source": [
    "future=m.make_future_dataframe(periods=365)"
   ]
  },
  {
   "cell_type": "code",
   "execution_count": null,
   "id": "06011dbd",
   "metadata": {},
   "outputs": [],
   "source": [
    "future.tail()"
   ]
  },
  {
   "cell_type": "code",
   "execution_count": null,
   "id": "b22beec6",
   "metadata": {},
   "outputs": [],
   "source": [
    "forecast=m.predict(future)"
   ]
  },
  {
   "cell_type": "code",
   "execution_count": null,
   "id": "f9cd0122",
   "metadata": {},
   "outputs": [],
   "source": [
    "forecast[['ds','yhat','yhat_lower','yhat_upper']].tail()"
   ]
  },
  {
   "cell_type": "code",
   "execution_count": null,
   "id": "baf7d971",
   "metadata": {},
   "outputs": [],
   "source": [
    "fig1=m.plot(forecast)"
   ]
  },
  {
   "cell_type": "code",
   "execution_count": null,
   "id": "1bdbe563",
   "metadata": {},
   "outputs": [],
   "source": [
    "fig1=m.plot_components(forecast)"
   ]
  },
  {
   "cell_type": "code",
   "execution_count": null,
   "id": "e4ffb536",
   "metadata": {},
   "outputs": [],
   "source": [
    "plot_components_plotly(m,forecast)"
   ]
  },
  {
   "cell_type": "code",
   "execution_count": null,
   "id": "b53a0f3d",
   "metadata": {},
   "outputs": [],
   "source": []
  }
 ],
 "metadata": {
  "kernelspec": {
   "display_name": "Python 3 (ipykernel)",
   "language": "python",
   "name": "python3"
  },
  "language_info": {
   "codemirror_mode": {
    "name": "ipython",
    "version": 3
   },
   "file_extension": ".py",
   "mimetype": "text/x-python",
   "name": "python",
   "nbconvert_exporter": "python",
   "pygments_lexer": "ipython3",
   "version": "3.9.7"
  }
 },
 "nbformat": 4,
 "nbformat_minor": 5
}
