{
 "cells": [
  {
   "cell_type": "code",
   "execution_count": 1,
   "id": "8d56ac7d",
   "metadata": {},
   "outputs": [],
   "source": [
    "from bs4 import BeautifulSoup\n",
    "import requests"
   ]
  },
  {
   "cell_type": "code",
   "execution_count": 2,
   "id": "cfc00693",
   "metadata": {},
   "outputs": [],
   "source": [
    "url=\"https://www.demoblaze.com/\""
   ]
  },
  {
   "cell_type": "code",
   "execution_count": 3,
   "id": "93e7a9f6",
   "metadata": {},
   "outputs": [],
   "source": [
    "r=requests.get(url)"
   ]
  },
  {
   "cell_type": "code",
   "execution_count": 4,
   "id": "c1f51f18",
   "metadata": {},
   "outputs": [],
   "source": [
    "soup=BeautifulSoup(r.content,'html5lib')"
   ]
  },
  {
   "cell_type": "code",
   "execution_count": 5,
   "id": "2ee1744a",
   "metadata": {},
   "outputs": [],
   "source": [
    "# print(soup.prettify())"
   ]
  },
  {
   "cell_type": "code",
   "execution_count": 6,
   "id": "44a132ba",
   "metadata": {},
   "outputs": [],
   "source": [
    "from selenium import webdriver"
   ]
  },
  {
   "cell_type": "code",
   "execution_count": 7,
   "id": "897a1c2d",
   "metadata": {},
   "outputs": [],
   "source": [
    "from selenium.webdriver.common.action_chains import ActionChains\n",
    "\n",
    "from webdriver_manager.chrome import ChromeDriverManager\n",
    "\n",
    "import time"
   ]
  },
  {
   "cell_type": "code",
   "execution_count": 8,
   "id": "44efd932",
   "metadata": {},
   "outputs": [],
   "source": [
    "import pandas as pd"
   ]
  },
  {
   "cell_type": "code",
   "execution_count": 30,
   "id": "05867352",
   "metadata": {},
   "outputs": [],
   "source": [
    "def Database(Companies):\n",
    "\n",
    "    driver=webdriver.Chrome(ChromeDriverManager().install())\n",
    "#     driver.maximize_window()\n",
    "    \n",
    "    for company in Companies:\n",
    "        driver.get(\"https://finance.yahoo.com/\")\n",
    "        driver.find_element_by_id(\"yfin-usr-qry\").send_keys(company)\n",
    "        driver.find_element_by_id(\"header-desktop-search-button\").click()\n",
    "        time.sleep(5)\n",
    "        \n",
    "        driver.find_element_by_xpath('''//*[@id=\"quote-nav\"]/ul/li[5]/a''').click()\n",
    "        time.sleep(5)\n",
    "        driver.find_element_by_xpath('''//*[@id=\"Col1-1-HistoricalDataTable-Proxy\"]/section/div[1]/div[1]/div[1]/div/div/div/span''').click()\n",
    "        driver.find_element_by_xpath('''//*[@id=\"dropdown-menu\"]/div/ul[2]/li[4]/button''').click()\n",
    "        driver.find_element_by_xpath('''//*[@id=\"Col1-1-HistoricalDataTable-Proxy\"]/section/div[1]/div[1]/button''').click()\n",
    "        \n",
    "        i = 1\n",
    "        while(i < 100):\n",
    "            driver.execute_script(f\"window.scrollTo(0, (document.body.scrollHeight)*{i * 10});\")\n",
    "            i = i + 1\n",
    "            time.sleep(0.5)\n",
    "\n",
    "        # Pulls the Historical Data\n",
    "        data = []\n",
    "        webpage = driver.page_source\n",
    "        soup = BeautifulSoup(webpage, 'lxml')\n",
    "        stock_prices = soup.find_all('tr', class_='BdT Bdc($seperatorColor) Ta(end) Fz(s) Whs(nw)')\n",
    "        for stock_price in stock_prices:\n",
    "            stock_price = stock_price.find_all('td')\n",
    "            price = []\n",
    "            for stock in stock_price:\n",
    "                price.append(stock.text)\n",
    "            data.append(price)\n",
    "        \n",
    "        # Generate csv file \n",
    "        database = pd.DataFrame(data, columns = [\"Date\", \"Open\", \"High\", \"Low\", \"Close\", \"Adj. Close\", \"Volume\"])\n",
    "        database.to_csv(rf'Databases\\{company}.csv', index = False)\n",
    "    \n",
    "    driver.quit() \n",
    "        "
   ]
  },
  {
   "cell_type": "code",
   "execution_count": 31,
   "id": "f8e4477e",
   "metadata": {},
   "outputs": [
    {
     "name": "stderr",
     "output_type": "stream",
     "text": [
      "\n",
      "\n",
      "====== WebDriver manager ======\n",
      "Current google-chrome version is 100.0.4896\n",
      "Get LATEST chromedriver version for 100.0.4896 google-chrome\n",
      "Driver [C:\\Users\\ksawa\\.wdm\\drivers\\chromedriver\\win32\\100.0.4896.60\\chromedriver.exe] found in cache\n",
      "C:\\Users\\ksawa\\AppData\\Local\\Temp/ipykernel_11800/3316941756.py:3: DeprecationWarning: executable_path has been deprecated, please pass in a Service object\n",
      "  driver=webdriver.Chrome(ChromeDriverManager().install())\n",
      "C:\\Users\\ksawa\\AppData\\Local\\Temp/ipykernel_11800/3316941756.py:8: DeprecationWarning: find_element_by_* commands are deprecated. Please use find_element() instead\n",
      "  driver.find_element_by_id(\"yfin-usr-qry\").send_keys(company)\n",
      "C:\\Users\\ksawa\\AppData\\Local\\Temp/ipykernel_11800/3316941756.py:9: DeprecationWarning: find_element_by_* commands are deprecated. Please use find_element() instead\n",
      "  driver.find_element_by_id(\"header-desktop-search-button\").click()\n",
      "C:\\Users\\ksawa\\AppData\\Local\\Temp/ipykernel_11800/3316941756.py:12: DeprecationWarning: find_element_by_xpath is deprecated. Please use find_element(by=By.XPATH, value=xpath) instead\n",
      "  driver.find_element_by_xpath('''//*[@id=\"quote-nav\"]/ul/li[5]/a''').click()\n",
      "C:\\Users\\ksawa\\AppData\\Local\\Temp/ipykernel_11800/3316941756.py:14: DeprecationWarning: find_element_by_xpath is deprecated. Please use find_element(by=By.XPATH, value=xpath) instead\n",
      "  driver.find_element_by_xpath('''//*[@id=\"Col1-1-HistoricalDataTable-Proxy\"]/section/div[1]/div[1]/div[1]/div/div/div/span''').click()\n"
     ]
    },
    {
     "ename": "WebDriverException",
     "evalue": "Message: target frame detached\n  (Session info: chrome=100.0.4896.127)\nStacktrace:\nBacktrace:\n\tOrdinal0 [0x00DB7413+2389011]\n\tOrdinal0 [0x00D49F61+1941345]\n\tOrdinal0 [0x00C3C520+836896]\n\tOrdinal0 [0x00C2D957+776535]\n\tOrdinal0 [0x00C2C995+772501]\n\tOrdinal0 [0x00C2CF98+774040]\n\tOrdinal0 [0x00C2CF28+773928]\n\tOrdinal0 [0x00C32C56+797782]\n\tOrdinal0 [0x00C32E99+798361]\n\tOrdinal0 [0x00C2E16D+778605]\n\tOrdinal0 [0x00C2E685+779909]\n\tOrdinal0 [0x00C2E46F+779375]\n\tOrdinal0 [0x00C2DA86+776838]\n\tOrdinal0 [0x00C2D9F0+776688]\n\tOrdinal0 [0x00C2C995+772501]\n\tOrdinal0 [0x00C2CF98+774040]\n\tOrdinal0 [0x00C2CF28+773928]\n\tOrdinal0 [0x00C33144+799044]\n\tOrdinal0 [0x00C2E16D+778605]\n\tOrdinal0 [0x00C2E685+779909]\n\tOrdinal0 [0x00C2E46F+779375]\n\tOrdinal0 [0x00C2DA86+776838]\n\tOrdinal0 [0x00C2D9F0+776688]\n\tOrdinal0 [0x00C2C995+772501]\n\tOrdinal0 [0x00C2CF98+774040]\n\tOrdinal0 [0x00C2CF28+773928]\n\tOrdinal0 [0x00C33144+799044]\n\tOrdinal0 [0x00C2E16D+778605]\n\tOrdinal0 [0x00C2E685+779909]\n\tOrdinal0 [0x00C2E46F+779375]\n\tOrdinal0 [0x00C2DA86+776838]\n\tOrdinal0 [0x00C2D2EB+774891]\n\tOrdinal0 [0x00C2D189+774537]\n\tOrdinal0 [0x00C3DA10+842256]\n\tOrdinal0 [0x00C93BCB+1194955]\n\tOrdinal0 [0x00C83F66+1130342]\n\tOrdinal0 [0x00C5E546+976198]\n\tOrdinal0 [0x00C5F456+980054]\n\tGetHandleVerifier [0x00F69632+1727522]\n\tGetHandleVerifier [0x0101BA4D+2457661]\n\tGetHandleVerifier [0x00E4EB81+569713]\n\tGetHandleVerifier [0x00E4DD76+566118]\n\tOrdinal0 [0x00D50B2B+1968939]\n\tOrdinal0 [0x00D55988+1989000]\n\tOrdinal0 [0x00D55A75+1989237]\n\tOrdinal0 [0x00D5ECB1+2026673]\n\tBaseThreadInitThunk [0x779EFA29+25]\n\tRtlGetAppContainerNamedObjectPath [0x77B37A7E+286]\n\tRtlGetAppContainerNamedObjectPath [0x77B37A4E+238]\n",
     "output_type": "error",
     "traceback": [
      "\u001b[1;31m---------------------------------------------------------------------------\u001b[0m",
      "\u001b[1;31mWebDriverException\u001b[0m                        Traceback (most recent call last)",
      "\u001b[1;32m~\\AppData\\Local\\Temp/ipykernel_11800/4188160867.py\u001b[0m in \u001b[0;36m<module>\u001b[1;34m\u001b[0m\n\u001b[0;32m      1\u001b[0m \u001b[0mList_of_Companies\u001b[0m \u001b[1;33m=\u001b[0m \u001b[1;33m[\u001b[0m\u001b[1;34m'GOOG'\u001b[0m\u001b[1;33m,\u001b[0m \u001b[1;34m'AAPL'\u001b[0m\u001b[1;33m,\u001b[0m \u001b[1;34m'MSFT'\u001b[0m\u001b[1;33m,\u001b[0m \u001b[1;34m'TSLA'\u001b[0m\u001b[1;33m,\u001b[0m \u001b[1;34m'AMZN'\u001b[0m\u001b[1;33m]\u001b[0m\u001b[1;33m\u001b[0m\u001b[1;33m\u001b[0m\u001b[0m\n\u001b[1;32m----> 2\u001b[1;33m \u001b[0mDatabase\u001b[0m\u001b[1;33m(\u001b[0m\u001b[0mList_of_Companies\u001b[0m\u001b[1;33m)\u001b[0m\u001b[1;33m\u001b[0m\u001b[1;33m\u001b[0m\u001b[0m\n\u001b[0m",
      "\u001b[1;32m~\\AppData\\Local\\Temp/ipykernel_11800/3316941756.py\u001b[0m in \u001b[0;36mDatabase\u001b[1;34m(Companies)\u001b[0m\n\u001b[0;32m     12\u001b[0m         \u001b[0mdriver\u001b[0m\u001b[1;33m.\u001b[0m\u001b[0mfind_element_by_xpath\u001b[0m\u001b[1;33m(\u001b[0m\u001b[1;34m'''//*[@id=\"quote-nav\"]/ul/li[5]/a'''\u001b[0m\u001b[1;33m)\u001b[0m\u001b[1;33m.\u001b[0m\u001b[0mclick\u001b[0m\u001b[1;33m(\u001b[0m\u001b[1;33m)\u001b[0m\u001b[1;33m\u001b[0m\u001b[1;33m\u001b[0m\u001b[0m\n\u001b[0;32m     13\u001b[0m         \u001b[0mtime\u001b[0m\u001b[1;33m.\u001b[0m\u001b[0msleep\u001b[0m\u001b[1;33m(\u001b[0m\u001b[1;36m5\u001b[0m\u001b[1;33m)\u001b[0m\u001b[1;33m\u001b[0m\u001b[1;33m\u001b[0m\u001b[0m\n\u001b[1;32m---> 14\u001b[1;33m         \u001b[0mdriver\u001b[0m\u001b[1;33m.\u001b[0m\u001b[0mfind_element_by_xpath\u001b[0m\u001b[1;33m(\u001b[0m\u001b[1;34m'''//*[@id=\"Col1-1-HistoricalDataTable-Proxy\"]/section/div[1]/div[1]/div[1]/div/div/div/span'''\u001b[0m\u001b[1;33m)\u001b[0m\u001b[1;33m.\u001b[0m\u001b[0mclick\u001b[0m\u001b[1;33m(\u001b[0m\u001b[1;33m)\u001b[0m\u001b[1;33m\u001b[0m\u001b[1;33m\u001b[0m\u001b[0m\n\u001b[0m\u001b[0;32m     15\u001b[0m         \u001b[0mdriver\u001b[0m\u001b[1;33m.\u001b[0m\u001b[0mfind_element_by_xpath\u001b[0m\u001b[1;33m(\u001b[0m\u001b[1;34m'''//*[@id=\"dropdown-menu\"]/div/ul[2]/li[4]/button'''\u001b[0m\u001b[1;33m)\u001b[0m\u001b[1;33m.\u001b[0m\u001b[0mclick\u001b[0m\u001b[1;33m(\u001b[0m\u001b[1;33m)\u001b[0m\u001b[1;33m\u001b[0m\u001b[1;33m\u001b[0m\u001b[0m\n\u001b[0;32m     16\u001b[0m         \u001b[0mdriver\u001b[0m\u001b[1;33m.\u001b[0m\u001b[0mfind_element_by_xpath\u001b[0m\u001b[1;33m(\u001b[0m\u001b[1;34m'''//*[@id=\"Col1-1-HistoricalDataTable-Proxy\"]/section/div[1]/div[1]/button'''\u001b[0m\u001b[1;33m)\u001b[0m\u001b[1;33m.\u001b[0m\u001b[0mclick\u001b[0m\u001b[1;33m(\u001b[0m\u001b[1;33m)\u001b[0m\u001b[1;33m\u001b[0m\u001b[1;33m\u001b[0m\u001b[0m\n",
      "\u001b[1;32m~\\anaconda3\\lib\\site-packages\\selenium\\webdriver\\remote\\webdriver.py\u001b[0m in \u001b[0;36mfind_element_by_xpath\u001b[1;34m(self, xpath)\u001b[0m\n\u001b[0;32m    519\u001b[0m             \u001b[0mstacklevel\u001b[0m\u001b[1;33m=\u001b[0m\u001b[1;36m2\u001b[0m\u001b[1;33m,\u001b[0m\u001b[1;33m\u001b[0m\u001b[1;33m\u001b[0m\u001b[0m\n\u001b[0;32m    520\u001b[0m         )\n\u001b[1;32m--> 521\u001b[1;33m         \u001b[1;32mreturn\u001b[0m \u001b[0mself\u001b[0m\u001b[1;33m.\u001b[0m\u001b[0mfind_element\u001b[0m\u001b[1;33m(\u001b[0m\u001b[0mby\u001b[0m\u001b[1;33m=\u001b[0m\u001b[0mBy\u001b[0m\u001b[1;33m.\u001b[0m\u001b[0mXPATH\u001b[0m\u001b[1;33m,\u001b[0m \u001b[0mvalue\u001b[0m\u001b[1;33m=\u001b[0m\u001b[0mxpath\u001b[0m\u001b[1;33m)\u001b[0m\u001b[1;33m\u001b[0m\u001b[1;33m\u001b[0m\u001b[0m\n\u001b[0m\u001b[0;32m    522\u001b[0m \u001b[1;33m\u001b[0m\u001b[0m\n\u001b[0;32m    523\u001b[0m     \u001b[1;32mdef\u001b[0m \u001b[0mfind_elements_by_xpath\u001b[0m\u001b[1;33m(\u001b[0m\u001b[0mself\u001b[0m\u001b[1;33m,\u001b[0m \u001b[0mxpath\u001b[0m\u001b[1;33m)\u001b[0m \u001b[1;33m->\u001b[0m \u001b[0mList\u001b[0m\u001b[1;33m[\u001b[0m\u001b[0mWebElement\u001b[0m\u001b[1;33m]\u001b[0m\u001b[1;33m:\u001b[0m\u001b[1;33m\u001b[0m\u001b[1;33m\u001b[0m\u001b[0m\n",
      "\u001b[1;32m~\\anaconda3\\lib\\site-packages\\selenium\\webdriver\\remote\\webdriver.py\u001b[0m in \u001b[0;36mfind_element\u001b[1;34m(self, by, value)\u001b[0m\n\u001b[0;32m   1246\u001b[0m             \u001b[0mvalue\u001b[0m \u001b[1;33m=\u001b[0m \u001b[1;34m'[name=\"%s\"]'\u001b[0m \u001b[1;33m%\u001b[0m \u001b[0mvalue\u001b[0m\u001b[1;33m\u001b[0m\u001b[1;33m\u001b[0m\u001b[0m\n\u001b[0;32m   1247\u001b[0m \u001b[1;33m\u001b[0m\u001b[0m\n\u001b[1;32m-> 1248\u001b[1;33m         return self.execute(Command.FIND_ELEMENT, {\n\u001b[0m\u001b[0;32m   1249\u001b[0m             \u001b[1;34m'using'\u001b[0m\u001b[1;33m:\u001b[0m \u001b[0mby\u001b[0m\u001b[1;33m,\u001b[0m\u001b[1;33m\u001b[0m\u001b[1;33m\u001b[0m\u001b[0m\n\u001b[0;32m   1250\u001b[0m             'value': value})['value']\n",
      "\u001b[1;32m~\\anaconda3\\lib\\site-packages\\selenium\\webdriver\\remote\\webdriver.py\u001b[0m in \u001b[0;36mexecute\u001b[1;34m(self, driver_command, params)\u001b[0m\n\u001b[0;32m    423\u001b[0m         \u001b[0mresponse\u001b[0m \u001b[1;33m=\u001b[0m \u001b[0mself\u001b[0m\u001b[1;33m.\u001b[0m\u001b[0mcommand_executor\u001b[0m\u001b[1;33m.\u001b[0m\u001b[0mexecute\u001b[0m\u001b[1;33m(\u001b[0m\u001b[0mdriver_command\u001b[0m\u001b[1;33m,\u001b[0m \u001b[0mparams\u001b[0m\u001b[1;33m)\u001b[0m\u001b[1;33m\u001b[0m\u001b[1;33m\u001b[0m\u001b[0m\n\u001b[0;32m    424\u001b[0m         \u001b[1;32mif\u001b[0m \u001b[0mresponse\u001b[0m\u001b[1;33m:\u001b[0m\u001b[1;33m\u001b[0m\u001b[1;33m\u001b[0m\u001b[0m\n\u001b[1;32m--> 425\u001b[1;33m             \u001b[0mself\u001b[0m\u001b[1;33m.\u001b[0m\u001b[0merror_handler\u001b[0m\u001b[1;33m.\u001b[0m\u001b[0mcheck_response\u001b[0m\u001b[1;33m(\u001b[0m\u001b[0mresponse\u001b[0m\u001b[1;33m)\u001b[0m\u001b[1;33m\u001b[0m\u001b[1;33m\u001b[0m\u001b[0m\n\u001b[0m\u001b[0;32m    426\u001b[0m             response['value'] = self._unwrap_value(\n\u001b[0;32m    427\u001b[0m                 response.get('value', None))\n",
      "\u001b[1;32m~\\anaconda3\\lib\\site-packages\\selenium\\webdriver\\remote\\errorhandler.py\u001b[0m in \u001b[0;36mcheck_response\u001b[1;34m(self, response)\u001b[0m\n\u001b[0;32m    245\u001b[0m                 \u001b[0malert_text\u001b[0m \u001b[1;33m=\u001b[0m \u001b[0mvalue\u001b[0m\u001b[1;33m[\u001b[0m\u001b[1;34m'alert'\u001b[0m\u001b[1;33m]\u001b[0m\u001b[1;33m.\u001b[0m\u001b[0mget\u001b[0m\u001b[1;33m(\u001b[0m\u001b[1;34m'text'\u001b[0m\u001b[1;33m)\u001b[0m\u001b[1;33m\u001b[0m\u001b[1;33m\u001b[0m\u001b[0m\n\u001b[0;32m    246\u001b[0m             \u001b[1;32mraise\u001b[0m \u001b[0mexception_class\u001b[0m\u001b[1;33m(\u001b[0m\u001b[0mmessage\u001b[0m\u001b[1;33m,\u001b[0m \u001b[0mscreen\u001b[0m\u001b[1;33m,\u001b[0m \u001b[0mstacktrace\u001b[0m\u001b[1;33m,\u001b[0m \u001b[0malert_text\u001b[0m\u001b[1;33m)\u001b[0m  \u001b[1;31m# type: ignore[call-arg]  # mypy is not smart enough here\u001b[0m\u001b[1;33m\u001b[0m\u001b[1;33m\u001b[0m\u001b[0m\n\u001b[1;32m--> 247\u001b[1;33m         \u001b[1;32mraise\u001b[0m \u001b[0mexception_class\u001b[0m\u001b[1;33m(\u001b[0m\u001b[0mmessage\u001b[0m\u001b[1;33m,\u001b[0m \u001b[0mscreen\u001b[0m\u001b[1;33m,\u001b[0m \u001b[0mstacktrace\u001b[0m\u001b[1;33m)\u001b[0m\u001b[1;33m\u001b[0m\u001b[1;33m\u001b[0m\u001b[0m\n\u001b[0m\u001b[0;32m    248\u001b[0m \u001b[1;33m\u001b[0m\u001b[0m\n\u001b[0;32m    249\u001b[0m     \u001b[1;32mdef\u001b[0m \u001b[0m_value_or_default\u001b[0m\u001b[1;33m(\u001b[0m\u001b[0mself\u001b[0m\u001b[1;33m,\u001b[0m \u001b[0mobj\u001b[0m\u001b[1;33m:\u001b[0m \u001b[0mMapping\u001b[0m\u001b[1;33m[\u001b[0m\u001b[0m_KT\u001b[0m\u001b[1;33m,\u001b[0m \u001b[0m_VT\u001b[0m\u001b[1;33m]\u001b[0m\u001b[1;33m,\u001b[0m \u001b[0mkey\u001b[0m\u001b[1;33m:\u001b[0m \u001b[0m_KT\u001b[0m\u001b[1;33m,\u001b[0m \u001b[0mdefault\u001b[0m\u001b[1;33m:\u001b[0m \u001b[0m_VT\u001b[0m\u001b[1;33m)\u001b[0m \u001b[1;33m->\u001b[0m \u001b[0m_VT\u001b[0m\u001b[1;33m:\u001b[0m\u001b[1;33m\u001b[0m\u001b[1;33m\u001b[0m\u001b[0m\n",
      "\u001b[1;31mWebDriverException\u001b[0m: Message: target frame detached\n  (Session info: chrome=100.0.4896.127)\nStacktrace:\nBacktrace:\n\tOrdinal0 [0x00DB7413+2389011]\n\tOrdinal0 [0x00D49F61+1941345]\n\tOrdinal0 [0x00C3C520+836896]\n\tOrdinal0 [0x00C2D957+776535]\n\tOrdinal0 [0x00C2C995+772501]\n\tOrdinal0 [0x00C2CF98+774040]\n\tOrdinal0 [0x00C2CF28+773928]\n\tOrdinal0 [0x00C32C56+797782]\n\tOrdinal0 [0x00C32E99+798361]\n\tOrdinal0 [0x00C2E16D+778605]\n\tOrdinal0 [0x00C2E685+779909]\n\tOrdinal0 [0x00C2E46F+779375]\n\tOrdinal0 [0x00C2DA86+776838]\n\tOrdinal0 [0x00C2D9F0+776688]\n\tOrdinal0 [0x00C2C995+772501]\n\tOrdinal0 [0x00C2CF98+774040]\n\tOrdinal0 [0x00C2CF28+773928]\n\tOrdinal0 [0x00C33144+799044]\n\tOrdinal0 [0x00C2E16D+778605]\n\tOrdinal0 [0x00C2E685+779909]\n\tOrdinal0 [0x00C2E46F+779375]\n\tOrdinal0 [0x00C2DA86+776838]\n\tOrdinal0 [0x00C2D9F0+776688]\n\tOrdinal0 [0x00C2C995+772501]\n\tOrdinal0 [0x00C2CF98+774040]\n\tOrdinal0 [0x00C2CF28+773928]\n\tOrdinal0 [0x00C33144+799044]\n\tOrdinal0 [0x00C2E16D+778605]\n\tOrdinal0 [0x00C2E685+779909]\n\tOrdinal0 [0x00C2E46F+779375]\n\tOrdinal0 [0x00C2DA86+776838]\n\tOrdinal0 [0x00C2D2EB+774891]\n\tOrdinal0 [0x00C2D189+774537]\n\tOrdinal0 [0x00C3DA10+842256]\n\tOrdinal0 [0x00C93BCB+1194955]\n\tOrdinal0 [0x00C83F66+1130342]\n\tOrdinal0 [0x00C5E546+976198]\n\tOrdinal0 [0x00C5F456+980054]\n\tGetHandleVerifier [0x00F69632+1727522]\n\tGetHandleVerifier [0x0101BA4D+2457661]\n\tGetHandleVerifier [0x00E4EB81+569713]\n\tGetHandleVerifier [0x00E4DD76+566118]\n\tOrdinal0 [0x00D50B2B+1968939]\n\tOrdinal0 [0x00D55988+1989000]\n\tOrdinal0 [0x00D55A75+1989237]\n\tOrdinal0 [0x00D5ECB1+2026673]\n\tBaseThreadInitThunk [0x779EFA29+25]\n\tRtlGetAppContainerNamedObjectPath [0x77B37A7E+286]\n\tRtlGetAppContainerNamedObjectPath [0x77B37A4E+238]\n"
     ]
    }
   ],
   "source": [
    "List_of_Companies = ['GOOG', 'AAPL', 'MSFT', 'TSLA', 'AMZN']\n",
    "Database(List_of_Companies)"
   ]
  },
  {
   "cell_type": "code",
   "execution_count": 15,
   "id": "19dd2412",
   "metadata": {},
   "outputs": [],
   "source": [
    "from selenium import webdriver"
   ]
  },
  {
   "cell_type": "code",
   "execution_count": 21,
   "id": "16e9dcb9",
   "metadata": {},
   "outputs": [
    {
     "name": "stderr",
     "output_type": "stream",
     "text": [
      "\n",
      "\n",
      "====== WebDriver manager ======\n",
      "Current google-chrome version is 100.0.4896\n",
      "Get LATEST chromedriver version for 100.0.4896 google-chrome\n",
      "Driver [C:\\Users\\ksawa\\.wdm\\drivers\\chromedriver\\win32\\100.0.4896.60\\chromedriver.exe] found in cache\n",
      "C:\\Users\\ksawa\\AppData\\Local\\Temp/ipykernel_11800/2515799675.py:8: DeprecationWarning: executable_path has been deprecated, please pass in a Service object\n",
      "  browser = webdriver.Chrome(ChromeDriverManager().install())\n",
      "C:\\Users\\ksawa\\AppData\\Local\\Temp/ipykernel_11800/2515799675.py:13: DeprecationWarning: find_element_by_name is deprecated. Please use find_element(by=By.NAME, value=name) instead\n",
      "  search = browser.find_element_by_name('q')\n"
     ]
    }
   ],
   "source": [
    "from selenium import webdriver\n",
    "from selenium.webdriver.common.by import By\n",
    "from selenium.webdriver.support.ui import WebDriverWait\n",
    "from selenium.webdriver.support import expected_conditions as EC \n",
    "\n",
    "from webdriver_manager.chrome import ChromeDriverManager\n",
    "\n",
    "browser = webdriver.Chrome(ChromeDriverManager().install())\n",
    "browser.get('http://www.google.com')\n",
    "\n",
    "\n",
    "search = browser.find_element_by_name('q')\n",
    "search.send_keys(\"google search through python\")\n",
    "\n",
    "browser.quit()"
   ]
  },
  {
   "cell_type": "code",
   "execution_count": null,
   "id": "1ef88b65",
   "metadata": {},
   "outputs": [],
   "source": [
    "    deiver=webdriver.Chrome(ChromeDriverManager().install())\n"
   ]
  }
 ],
 "metadata": {
  "kernelspec": {
   "display_name": "Python 3 (ipykernel)",
   "language": "python",
   "name": "python3"
  },
  "language_info": {
   "codemirror_mode": {
    "name": "ipython",
    "version": 3
   },
   "file_extension": ".py",
   "mimetype": "text/x-python",
   "name": "python",
   "nbconvert_exporter": "python",
   "pygments_lexer": "ipython3",
   "version": "3.9.7"
  }
 },
 "nbformat": 4,
 "nbformat_minor": 5
}
